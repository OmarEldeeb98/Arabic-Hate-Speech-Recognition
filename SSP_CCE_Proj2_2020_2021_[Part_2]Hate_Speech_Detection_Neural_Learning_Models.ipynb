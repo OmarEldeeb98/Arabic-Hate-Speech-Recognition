{
  "nbformat": 4,
  "nbformat_minor": 0,
  "metadata": {
    "colab": {
      "name": "SSP_CCE_Proj2_2020/2021_[Part_2]Hate_Speech_Detection_Neural_Learning_Models.ipynb",
      "provenance": [],
      "collapsed_sections": [],
      "toc_visible": true
    },
    "kernelspec": {
      "display_name": "Python 3",
      "name": "python3"
    }
  },
  "cells": [
    {
      "cell_type": "markdown",
      "metadata": {
        "id": "wrCuCYE3b7Zs"
      },
      "source": [
        "#[Part 2] Hate speech Detection using Neural Learning Models\n",
        "In this notebook, we conduct a preliminary experiment on the detection of hate speech in Arabic tweets as part of our participation in the Hate Speech Detection subtask in [OSACT4 workshop](http://edinburghnlp.inf.ed.ac.uk/workshops/OSACT4/).\n",
        "\n",
        "We experimented with three types of neural models:\n",
        "### 1.   Recurrent Neural Networks (RNN):\n",
        ">*   Long Short-Term Memory (LSTM)\n",
        ">*   Bidirectional LSTM (BLSTM)\n",
        ">*   Gated Recurrent Unit (GRU)\n",
        "\n",
        "\n",
        "### 2.   Convolutional Neural Networks (CNN)\n",
        "\n",
        "### 3.   Combined CNN-RNN:\n",
        ">* CNN-LSTM\n",
        ">* CNN-BLSTM\n",
        ">* CNN-GRU\n",
        ">* CNN-LSTM with overSampling\n",
        "\n",
        "\n"
      ]
    },
    {
      "cell_type": "code",
      "metadata": {
        "colab": {
          "base_uri": "https://localhost:8080/"
        },
        "id": "3psLV0AyPwSV",
        "outputId": "7433ff6e-8e9f-4823-a626-f7ad736f022d"
      },
      "source": [
        "from google.colab import drive\n",
        "drive.mount('/content/drive')"
      ],
      "execution_count": null,
      "outputs": [
        {
          "output_type": "stream",
          "text": [
            "Mounted at /content/drive\n"
          ],
          "name": "stdout"
        }
      ]
    },
    {
      "cell_type": "code",
      "metadata": {
        "id": "jnSw0od87C8-"
      },
      "source": [
        "from keras.layers import Embedding, Dense, Dropout, Input, LSTM, Bidirectional,GRU\n",
        "from keras.layers import MaxPooling1D, Conv1D, Flatten\n",
        "from keras.preprocessing import sequence, text\n",
        "from keras.models import Model\n",
        "from keras.utils import np_utils\n",
        "from keras.callbacks import Callback\n",
        "from gensim.models.keyedvectors import KeyedVectors\n",
        "from sklearn import preprocessing\n",
        "from time import time\n",
        "import pandas as pd\n",
        "import numpy as np\n",
        "import matplotlib.pyplot as plt\n",
        "import seaborn as sns\n",
        "import csv\n",
        "\n",
        "from keras import optimizers\n",
        "\n",
        "from sklearn.metrics import f1_score\n",
        "from sklearn.metrics import accuracy_score\n",
        "\n",
        "from sklearn.utils import class_weight\n",
        "\n",
        "from sklearn import preprocessing\n",
        "from sklearn.metrics import (\n",
        "    classification_report as creport\n",
        ")\n"
      ],
      "execution_count": null,
      "outputs": []
    },
    {
      "cell_type": "markdown",
      "metadata": {
        "id": "n6_dt2cDtobO"
      },
      "source": [
        "# Data and AraVec2.0 (pre-trained word embeddings model) Loading"
      ]
    },
    {
      "cell_type": "code",
      "metadata": {
        "colab": {
          "base_uri": "https://localhost:8080/"
        },
        "id": "2Mn0KDJg-o5u",
        "outputId": "181f5c12-f1cb-44ed-b3d3-18c2a1613017"
      },
      "source": [
        "#pre-trained word embedding: https://github.com/bakrianoo/aravec/tree/master/AraVec%202.0\n",
        "\"\"\"\n",
        "Citation:\n",
        "Abu Bakr Soliman, Kareem Eisa, and Samhaa R. El-Beltagy, “AraVec:\n",
        "A set of Arabic Word Embedding Models for use in Arabic NLP”,\n",
        "in proceedings of the 3rd International Conference on \n",
        "Arabic Computational Linguistics (ACLing 2017), Dubai, UAE, 2017.\n",
        "\"\"\"\n",
        "! unzip '/content/drive/My Drive/tweets_sg_300.zip'  "
      ],
      "execution_count": null,
      "outputs": [
        {
          "output_type": "stream",
          "text": [
            "Archive:  /content/drive/My Drive/tweets_sg_300.zip\n",
            "  inflating: tweets_sg_300           \n",
            "  inflating: tweets_sg_300.trainables.syn1neg.npy  \n",
            "  inflating: tweets_sg_300.wv.vectors.npy  \n"
          ],
          "name": "stdout"
        }
      ]
    },
    {
      "cell_type": "code",
      "metadata": {
        "id": "V3kKX6Ra-p1d"
      },
      "source": [
        "# Word_embedding_path\n",
        "embedding_path = '/content/tweets_sg_300'           #Twitter-Skipgram model-300d(trained on 77,600,000 Arabic tweets)"
      ],
      "execution_count": null,
      "outputs": []
    },
    {
      "cell_type": "code",
      "metadata": {
        "colab": {
          "base_uri": "https://localhost:8080/",
          "height": 424
        },
        "id": "JpRSY6aVACVF",
        "outputId": "7508cfc3-140b-4655-b2a5-5f8de2622e96"
      },
      "source": [
        "train_data = pd.read_csv('/content/drive/My Drive/train_data.csv')\n",
        "train_data"
      ],
      "execution_count": null,
      "outputs": [
        {
          "output_type": "execute_result",
          "data": {
            "text/html": [
              "<div>\n",
              "<style scoped>\n",
              "    .dataframe tbody tr th:only-of-type {\n",
              "        vertical-align: middle;\n",
              "    }\n",
              "\n",
              "    .dataframe tbody tr th {\n",
              "        vertical-align: top;\n",
              "    }\n",
              "\n",
              "    .dataframe thead th {\n",
              "        text-align: right;\n",
              "    }\n",
              "</style>\n",
              "<table border=\"1\" class=\"dataframe\">\n",
              "  <thead>\n",
              "    <tr style=\"text-align: right;\">\n",
              "      <th></th>\n",
              "      <th>Tweet</th>\n",
              "      <th>Offensive</th>\n",
              "      <th>Hate</th>\n",
              "    </tr>\n",
              "  </thead>\n",
              "  <tbody>\n",
              "    <tr>\n",
              "      <th>0</th>\n",
              "      <td>الحمدلله يارب فوز مهم يا زمالك.. كل الدعم ليكم...</td>\n",
              "      <td>NOT_OFF</td>\n",
              "      <td>NOT_HS</td>\n",
              "    </tr>\n",
              "    <tr>\n",
              "      <th>1</th>\n",
              "      <td>فدوه يا بخت فدوه يا زمن واحد منكم يجيبه</td>\n",
              "      <td>NOT_OFF</td>\n",
              "      <td>NOT_HS</td>\n",
              "    </tr>\n",
              "    <tr>\n",
              "      <th>2</th>\n",
              "      <td>RT @USER: يا رب يا واحد يا أحد بحق يوم الاحد ا...</td>\n",
              "      <td>OFF</td>\n",
              "      <td>HS</td>\n",
              "    </tr>\n",
              "    <tr>\n",
              "      <th>3</th>\n",
              "      <td>RT @USER: #هوا_الحرية يا وجع قلبي عليكي يا امي...</td>\n",
              "      <td>NOT_OFF</td>\n",
              "      <td>NOT_HS</td>\n",
              "    </tr>\n",
              "    <tr>\n",
              "      <th>4</th>\n",
              "      <td>يا بكون بحياتك الأهم يا إما ما بدي أكون 🎼</td>\n",
              "      <td>NOT_OFF</td>\n",
              "      <td>NOT_HS</td>\n",
              "    </tr>\n",
              "    <tr>\n",
              "      <th>...</th>\n",
              "      <td>...</td>\n",
              "      <td>...</td>\n",
              "      <td>...</td>\n",
              "    </tr>\n",
              "    <tr>\n",
              "      <th>6995</th>\n",
              "      <td>@USER يا حمار ، يا جاهل ، نسبة الباطل ما بتتحس...</td>\n",
              "      <td>OFF</td>\n",
              "      <td>NOT_HS</td>\n",
              "    </tr>\n",
              "    <tr>\n",
              "      <th>6996</th>\n",
              "      <td>RT @USER: @USER كل زق يا طاقية يا واطي يا حقير...</td>\n",
              "      <td>OFF</td>\n",
              "      <td>NOT_HS</td>\n",
              "    </tr>\n",
              "    <tr>\n",
              "      <th>6997</th>\n",
              "      <td>@USER&lt;LF&gt;يا كبير يا ممتع يا نجم لابد أن تعي جي...</td>\n",
              "      <td>NOT_OFF</td>\n",
              "      <td>NOT_HS</td>\n",
              "    </tr>\n",
              "    <tr>\n",
              "      <th>6998</th>\n",
              "      <td>يا رب الاتحاد يفوز يا رب. 😭😭 #الاتحاد_النصر</td>\n",
              "      <td>NOT_OFF</td>\n",
              "      <td>NOT_HS</td>\n",
              "    </tr>\n",
              "    <tr>\n",
              "      <th>6999</th>\n",
              "      <td>يعز عليا ادخل الشارع وملاقيكش واقف مستنيني في ...</td>\n",
              "      <td>NOT_OFF</td>\n",
              "      <td>NOT_HS</td>\n",
              "    </tr>\n",
              "  </tbody>\n",
              "</table>\n",
              "<p>7000 rows × 3 columns</p>\n",
              "</div>"
            ],
            "text/plain": [
              "                                                  Tweet Offensive    Hate\n",
              "0     الحمدلله يارب فوز مهم يا زمالك.. كل الدعم ليكم...   NOT_OFF  NOT_HS\n",
              "1               فدوه يا بخت فدوه يا زمن واحد منكم يجيبه   NOT_OFF  NOT_HS\n",
              "2     RT @USER: يا رب يا واحد يا أحد بحق يوم الاحد ا...       OFF      HS\n",
              "3     RT @USER: #هوا_الحرية يا وجع قلبي عليكي يا امي...   NOT_OFF  NOT_HS\n",
              "4             يا بكون بحياتك الأهم يا إما ما بدي أكون 🎼   NOT_OFF  NOT_HS\n",
              "...                                                 ...       ...     ...\n",
              "6995  @USER يا حمار ، يا جاهل ، نسبة الباطل ما بتتحس...       OFF  NOT_HS\n",
              "6996  RT @USER: @USER كل زق يا طاقية يا واطي يا حقير...       OFF  NOT_HS\n",
              "6997  @USER<LF>يا كبير يا ممتع يا نجم لابد أن تعي جي...   NOT_OFF  NOT_HS\n",
              "6998        يا رب الاتحاد يفوز يا رب. 😭😭 #الاتحاد_النصر   NOT_OFF  NOT_HS\n",
              "6999  يعز عليا ادخل الشارع وملاقيكش واقف مستنيني في ...   NOT_OFF  NOT_HS\n",
              "\n",
              "[7000 rows x 3 columns]"
            ]
          },
          "metadata": {
            "tags": []
          },
          "execution_count": 5
        }
      ]
    },
    {
      "cell_type": "code",
      "metadata": {
        "colab": {
          "base_uri": "https://localhost:8080/",
          "height": 424
        },
        "id": "d5frVvfiL72D",
        "outputId": "e1ad3d7f-e7d8-490c-e989-04af86e6969a"
      },
      "source": [
        "dev_data = pd.read_csv('/content/drive/My Drive/dev_data.csv')\n",
        "dev_data"
      ],
      "execution_count": null,
      "outputs": [
        {
          "output_type": "execute_result",
          "data": {
            "text/html": [
              "<div>\n",
              "<style scoped>\n",
              "    .dataframe tbody tr th:only-of-type {\n",
              "        vertical-align: middle;\n",
              "    }\n",
              "\n",
              "    .dataframe tbody tr th {\n",
              "        vertical-align: top;\n",
              "    }\n",
              "\n",
              "    .dataframe thead th {\n",
              "        text-align: right;\n",
              "    }\n",
              "</style>\n",
              "<table border=\"1\" class=\"dataframe\">\n",
              "  <thead>\n",
              "    <tr style=\"text-align: right;\">\n",
              "      <th></th>\n",
              "      <th>Tweet</th>\n",
              "      <th>Offensive</th>\n",
              "      <th>Hate</th>\n",
              "    </tr>\n",
              "  </thead>\n",
              "  <tbody>\n",
              "    <tr>\n",
              "      <th>0</th>\n",
              "      <td>فى حاجات مينفعش نلفت نظركوا ليها زى الاصول كده...</td>\n",
              "      <td>NOT_OFF</td>\n",
              "      <td>NOT_HS</td>\n",
              "    </tr>\n",
              "    <tr>\n",
              "      <th>1</th>\n",
              "      <td>RT @USER: وعيون تنادينا تحايل فينا و نقول يا ع...</td>\n",
              "      <td>NOT_OFF</td>\n",
              "      <td>NOT_HS</td>\n",
              "    </tr>\n",
              "    <tr>\n",
              "      <th>2</th>\n",
              "      <td>يا بلادي يا أم البلاد يا بلادي بحبك يا مصر بحب...</td>\n",
              "      <td>NOT_OFF</td>\n",
              "      <td>NOT_HS</td>\n",
              "    </tr>\n",
              "    <tr>\n",
              "      <th>3</th>\n",
              "      <td>RT @USER: يا رب يا قوي يا معين مدّني بالقوة و ...</td>\n",
              "      <td>NOT_OFF</td>\n",
              "      <td>NOT_HS</td>\n",
              "    </tr>\n",
              "    <tr>\n",
              "      <th>4</th>\n",
              "      <td>RT @USER: رحمك الله يا صدام يا بطل ومقدام. URL</td>\n",
              "      <td>NOT_OFF</td>\n",
              "      <td>NOT_HS</td>\n",
              "    </tr>\n",
              "    <tr>\n",
              "      <th>...</th>\n",
              "      <td>...</td>\n",
              "      <td>...</td>\n",
              "      <td>...</td>\n",
              "    </tr>\n",
              "    <tr>\n",
              "      <th>995</th>\n",
              "      <td>RT @USER: انتو بتوزعوا زيت وسكر فعلا يا عباس؟&lt;...</td>\n",
              "      <td>NOT_OFF</td>\n",
              "      <td>NOT_HS</td>\n",
              "    </tr>\n",
              "    <tr>\n",
              "      <th>996</th>\n",
              "      <td>RT @USER: كدا يا عمر متزعلهاش يا حبيبي 😂 URL</td>\n",
              "      <td>NOT_OFF</td>\n",
              "      <td>NOT_HS</td>\n",
              "    </tr>\n",
              "    <tr>\n",
              "      <th>997</th>\n",
              "      <td>هدا سكن اطفال امارتين من شارقة طالبين فزعتكم ي...</td>\n",
              "      <td>NOT_OFF</td>\n",
              "      <td>NOT_HS</td>\n",
              "    </tr>\n",
              "    <tr>\n",
              "      <th>998</th>\n",
              "      <td>RT @USER: ومدني بمدد من قوتك أواجه به ضعفي.. و...</td>\n",
              "      <td>NOT_OFF</td>\n",
              "      <td>NOT_HS</td>\n",
              "    </tr>\n",
              "    <tr>\n",
              "      <th>999</th>\n",
              "      <td>يا سلااااام يا يو خالد انت والطرب الاصيل URL</td>\n",
              "      <td>NOT_OFF</td>\n",
              "      <td>NOT_HS</td>\n",
              "    </tr>\n",
              "  </tbody>\n",
              "</table>\n",
              "<p>1000 rows × 3 columns</p>\n",
              "</div>"
            ],
            "text/plain": [
              "                                                 Tweet Offensive    Hate\n",
              "0    فى حاجات مينفعش نلفت نظركوا ليها زى الاصول كده...   NOT_OFF  NOT_HS\n",
              "1    RT @USER: وعيون تنادينا تحايل فينا و نقول يا ع...   NOT_OFF  NOT_HS\n",
              "2    يا بلادي يا أم البلاد يا بلادي بحبك يا مصر بحب...   NOT_OFF  NOT_HS\n",
              "3    RT @USER: يا رب يا قوي يا معين مدّني بالقوة و ...   NOT_OFF  NOT_HS\n",
              "4       RT @USER: رحمك الله يا صدام يا بطل ومقدام. URL   NOT_OFF  NOT_HS\n",
              "..                                                 ...       ...     ...\n",
              "995  RT @USER: انتو بتوزعوا زيت وسكر فعلا يا عباس؟<...   NOT_OFF  NOT_HS\n",
              "996       RT @USER: كدا يا عمر متزعلهاش يا حبيبي 😂 URL   NOT_OFF  NOT_HS\n",
              "997  هدا سكن اطفال امارتين من شارقة طالبين فزعتكم ي...   NOT_OFF  NOT_HS\n",
              "998  RT @USER: ومدني بمدد من قوتك أواجه به ضعفي.. و...   NOT_OFF  NOT_HS\n",
              "999       يا سلااااام يا يو خالد انت والطرب الاصيل URL   NOT_OFF  NOT_HS\n",
              "\n",
              "[1000 rows x 3 columns]"
            ]
          },
          "metadata": {
            "tags": []
          },
          "execution_count": 6
        }
      ]
    },
    {
      "cell_type": "code",
      "metadata": {
        "colab": {
          "base_uri": "https://localhost:8080/",
          "height": 424
        },
        "id": "Qdy3SADGlqFS",
        "outputId": "062aa381-2a06-4a8a-dd01-3e4f8ca7f897"
      },
      "source": [
        "test_data = pd.read_csv('/content/drive/My Drive/Test_data.csv')\r\n",
        "test_data"
      ],
      "execution_count": null,
      "outputs": [
        {
          "output_type": "execute_result",
          "data": {
            "text/html": [
              "<div>\n",
              "<style scoped>\n",
              "    .dataframe tbody tr th:only-of-type {\n",
              "        vertical-align: middle;\n",
              "    }\n",
              "\n",
              "    .dataframe tbody tr th {\n",
              "        vertical-align: top;\n",
              "    }\n",
              "\n",
              "    .dataframe thead th {\n",
              "        text-align: right;\n",
              "    }\n",
              "</style>\n",
              "<table border=\"1\" class=\"dataframe\">\n",
              "  <thead>\n",
              "    <tr style=\"text-align: right;\">\n",
              "      <th></th>\n",
              "      <th>Tweet</th>\n",
              "      <th>Offensive</th>\n",
              "      <th>Hate</th>\n",
              "    </tr>\n",
              "  </thead>\n",
              "  <tbody>\n",
              "    <tr>\n",
              "      <th>0</th>\n",
              "      <td>@USER اما انت تقعد طول عمرك لا مبدا ولا راي ثا...</td>\n",
              "      <td>OFF</td>\n",
              "      <td>HS</td>\n",
              "    </tr>\n",
              "    <tr>\n",
              "      <th>1</th>\n",
              "      <td>@USER @USER بتخاف نسوانك يزعلوا ولا ايه 😂 اه ي...</td>\n",
              "      <td>OFF</td>\n",
              "      <td>NOT_HS</td>\n",
              "    </tr>\n",
              "    <tr>\n",
              "      <th>2</th>\n",
              "      <td>RT @USER: يا عـسانـى نـبـقى يا عـمري حـبايـب و...</td>\n",
              "      <td>NOT_OFF</td>\n",
              "      <td>NOT_HS</td>\n",
              "    </tr>\n",
              "    <tr>\n",
              "      <th>3</th>\n",
              "      <td>RT @USER: باقي البيان وينو ما شفنه يا برهان &lt;L...</td>\n",
              "      <td>OFF</td>\n",
              "      <td>NOT_HS</td>\n",
              "    </tr>\n",
              "    <tr>\n",
              "      <th>4</th>\n",
              "      <td>@USER @USER اللهم انت الشافي المعافي اشفيه وجم...</td>\n",
              "      <td>NOT_OFF</td>\n",
              "      <td>NOT_HS</td>\n",
              "    </tr>\n",
              "    <tr>\n",
              "      <th>...</th>\n",
              "      <td>...</td>\n",
              "      <td>...</td>\n",
              "      <td>...</td>\n",
              "    </tr>\n",
              "    <tr>\n",
              "      <th>1995</th>\n",
              "      <td>RT @USER: الله لايوفقك يا مهند عسيري يا معوق و...</td>\n",
              "      <td>OFF</td>\n",
              "      <td>NOT_HS</td>\n",
              "    </tr>\n",
              "    <tr>\n",
              "      <th>1996</th>\n",
              "      <td>RT @USER: @USER حبيبي يا يوسف وانت طيب يا صاحب...</td>\n",
              "      <td>NOT_OFF</td>\n",
              "      <td>NOT_HS</td>\n",
              "    </tr>\n",
              "    <tr>\n",
              "      <th>1997</th>\n",
              "      <td>RT @USER: يا بو محمد عشت يا طيب الفال&lt;LF&gt;عاشت ...</td>\n",
              "      <td>NOT_OFF</td>\n",
              "      <td>NOT_HS</td>\n",
              "    </tr>\n",
              "    <tr>\n",
              "      <th>1998</th>\n",
              "      <td>أنا مستني الحلقة بقالي سنتين يا بضان يا ابن ال...</td>\n",
              "      <td>OFF</td>\n",
              "      <td>NOT_HS</td>\n",
              "    </tr>\n",
              "    <tr>\n",
              "      <th>1999</th>\n",
              "      <td>انتظروا العقوبة الالهية يا من تدعمون الارهاب ي...</td>\n",
              "      <td>OFF</td>\n",
              "      <td>NOT_HS</td>\n",
              "    </tr>\n",
              "  </tbody>\n",
              "</table>\n",
              "<p>2000 rows × 3 columns</p>\n",
              "</div>"
            ],
            "text/plain": [
              "                                                  Tweet Offensive    Hate\n",
              "0     @USER اما انت تقعد طول عمرك لا مبدا ولا راي ثا...       OFF      HS\n",
              "1     @USER @USER بتخاف نسوانك يزعلوا ولا ايه 😂 اه ي...       OFF  NOT_HS\n",
              "2     RT @USER: يا عـسانـى نـبـقى يا عـمري حـبايـب و...   NOT_OFF  NOT_HS\n",
              "3     RT @USER: باقي البيان وينو ما شفنه يا برهان <L...       OFF  NOT_HS\n",
              "4     @USER @USER اللهم انت الشافي المعافي اشفيه وجم...   NOT_OFF  NOT_HS\n",
              "...                                                 ...       ...     ...\n",
              "1995  RT @USER: الله لايوفقك يا مهند عسيري يا معوق و...       OFF  NOT_HS\n",
              "1996  RT @USER: @USER حبيبي يا يوسف وانت طيب يا صاحب...   NOT_OFF  NOT_HS\n",
              "1997  RT @USER: يا بو محمد عشت يا طيب الفال<LF>عاشت ...   NOT_OFF  NOT_HS\n",
              "1998  أنا مستني الحلقة بقالي سنتين يا بضان يا ابن ال...       OFF  NOT_HS\n",
              "1999  انتظروا العقوبة الالهية يا من تدعمون الارهاب ي...       OFF  NOT_HS\n",
              "\n",
              "[2000 rows x 3 columns]"
            ]
          },
          "metadata": {
            "tags": []
          },
          "execution_count": 7
        }
      ]
    },
    {
      "cell_type": "code",
      "metadata": {
        "colab": {
          "base_uri": "https://localhost:8080/"
        },
        "id": "s9yxPtQjKsPa",
        "outputId": "b6118599-e13e-4f34-f59c-7fcedb7fa980"
      },
      "source": [
        "print(\"Train data shape: {} \\nDev data shape: {}\".format(train_data.shape,dev_data.shape))\n"
      ],
      "execution_count": null,
      "outputs": [
        {
          "output_type": "stream",
          "text": [
            "Train data shape: (7000, 3) \n",
            "Dev data shape: (1000, 3)\n"
          ],
          "name": "stdout"
        }
      ]
    },
    {
      "cell_type": "code",
      "metadata": {
        "id": "Ae5n6EhUcEDD"
      },
      "source": [
        "def get_embedding_matrix(word_index, embedding_index, vocab_dim):\n",
        "    print('Building embedding matrix...')\n",
        "    embedding_matrix = np.zeros((len(word_index) + 1, vocab_dim))\n",
        "    for word, i in word_index.items():\n",
        "        try:\n",
        "            embedding_matrix[i] = embedding_index.get_vector(word)\n",
        "        except:\n",
        "            pass\n",
        "    print('Embedding matrix built.') \n",
        "    #print(\"Word index\", word_index.items())\n",
        "    #print(embedding_matrix) \n",
        "    return embedding_matrix\n",
        "\n",
        "\n",
        "def get_init_parameters(path, ext=None):\n",
        "    if ext == 'vec':\n",
        "        word_model = KeyedVectors.load_word2vec_format(path).wv\n",
        "    else:\n",
        "        word_model = KeyedVectors.load(path).wv\n",
        "    n_words = len(word_model.vocab)\n",
        "    vocab_dim = word_model[word_model.index2word[0]].shape[0]\n",
        "    index_dict = dict()\n",
        "    for i in range(n_words):\n",
        "        index_dict[word_model.index2word[i]] = i+1\n",
        "    print('Number of words in the word embedding',n_words)\n",
        "    #print('word_model', word_model)\n",
        "    #print(\"index_dict\",index_dict)\n",
        "    return word_model, index_dict, n_words, vocab_dim\n",
        "\n",
        "def get_max_length(text_data, return_line=False):\n",
        "    max_length = 0\n",
        "    long_line = \"\"\n",
        "    for line in text_data:\n",
        "        new = len(line.split())\n",
        "        if new > max_length:\n",
        "            max_length = new\n",
        "            long_line = line\n",
        "    if return_line:\n",
        "        return long_line, max_length\n",
        "    else:\n",
        "        return max_length\n",
        "    print(\"max\",long_line,max_length)\n",
        "\n",
        "def load_datasets(data_paths, header=True):\n",
        "    x = []\n",
        "    y = []\n",
        "    for data_path in data_paths:\n",
        "        with open(data_path, 'r') as f:\n",
        "            for line in f:\n",
        "                if header:\n",
        "                    header = False\n",
        "                else:\n",
        "                    temp = line.split(',')\n",
        "                    x.append(temp[0])\n",
        "                    y.append(temp[2].replace('\\n', ''))\n",
        "    max_length = get_max_length(x)\n",
        "    print('Max length:', max_length)\n",
        "    return x,y, max_length\n",
        "\n",
        "def get_train_test(train_raw_text, dev_raw_text, test_raw_text, n_words, max_length):\n",
        "    tokenizer = text.Tokenizer(num_words=n_words)\n",
        "    tokenizer.fit_on_texts(list(train_raw_text))\n",
        "    word_index = tokenizer.word_index\n",
        "   \n",
        "    train_tokenized = tokenizer.texts_to_sequences(train_raw_text)\n",
        "    dev_tokenized = tokenizer.texts_to_sequences(dev_raw_text)\n",
        "    test_tokenized = tokenizer.texts_to_sequences(test_raw_text)\n",
        "\n",
        "    return sequence.pad_sequences(train_tokenized, maxlen=max_length, padding='post', truncating='post'),\\\n",
        "           sequence.pad_sequences(dev_tokenized, maxlen=max_length, padding='post', truncating='post'),\\\n",
        "           sequence.pad_sequences(test_tokenized, maxlen=max_length, padding='post', truncating='post'),\\\n",
        "           word_index\n",
        "\n",
        "def class_str_2_ind(x_train,x_dev, x_test, y_train,y_dev, y_test, classes, n_words, max_length):\n",
        "    print('Converting data to trainable form...')\n",
        "    y_encoder = preprocessing.LabelEncoder()\n",
        "    y_encoder.fit(classes)\n",
        "    y_train = y_encoder.transform(y_train)\n",
        "    y_dev = y_encoder.transform(y_dev)\n",
        "    y_test = y_encoder.transform(y_test)\n",
        "\n",
        "    #print(y_train)\n",
        "    #print(y_test)\n",
        "    train_y_cat = np_utils.to_categorical(y_train, len(classes))\n",
        "    x_vec_train, x_vec_dev, x_vec_test, word_index = get_train_test(x_train,x_dev, x_test, n_words, max_length)\n",
        "    print('Number of training examples: ' + str(len(x_vec_train)))\n",
        "    print('Number of dev examples: ' + str(len(x_vec_test)))\n",
        "    return x_vec_train,x_vec_dev, x_vec_test, y_train, y_dev, y_test, train_y_cat, word_index\n"
      ],
      "execution_count": null,
      "outputs": []
    },
    {
      "cell_type": "code",
      "metadata": {
        "colab": {
          "base_uri": "https://localhost:8080/"
        },
        "id": "lT0r5MyUbtGC",
        "outputId": "425a9250-0012-498a-87c5-2ca4c2119eb6"
      },
      "source": [
        "WORD_MODEL, _, MAX_FEATURES, EMBED_SIZE = get_init_parameters(embedding_path) "
      ],
      "execution_count": null,
      "outputs": [
        {
          "output_type": "stream",
          "text": [
            "Number of words in the word embedding 331679\n"
          ],
          "name": "stdout"
        }
      ]
    },
    {
      "cell_type": "code",
      "metadata": {
        "colab": {
          "base_uri": "https://localhost:8080/"
        },
        "id": "cjwJ3aN3U1Mv",
        "outputId": "111e920b-554e-4e72-fb74-206170ebe63b"
      },
      "source": [
        "# load train data\n",
        "train_data_path=[\"/content/drive/My Drive/synonyms_remove.csv\"]\n",
        "x_train, y_train, MAX_TEXT_LENGTH = load_datasets(train_data_path)\n",
        "CLASSES_LIST = np.unique(y_train)\n",
        "print('Label categories: ' + str(CLASSES_LIST))\n",
        "#0= HS, 1= NOT_HS"
      ],
      "execution_count": null,
      "outputs": [
        {
          "output_type": "stream",
          "text": [
            "Max length: 84\n",
            "Label categories: ['HS' 'NOT_HS']\n"
          ],
          "name": "stdout"
        }
      ]
    },
    {
      "cell_type": "code",
      "metadata": {
        "colab": {
          "base_uri": "https://localhost:8080/"
        },
        "id": "VGShWPV6UwCE",
        "outputId": "19d1199f-ffe8-4a54-e158-29a86967a363"
      },
      "source": [
        "# load dev data\n",
        "dev_data_path=[\"/content/drive/My Drive/dev_data_cleaned.csv\"]\n",
        "x_dev, y_dev, MAX_TEXT_LENGTH = load_datasets(dev_data_path)\n",
        "CLASSES_LIST = np.unique(y_dev)\n",
        "print('Label categories: ' + str(CLASSES_LIST))\n",
        "#0= HS, 1= NOT_HS"
      ],
      "execution_count": null,
      "outputs": [
        {
          "output_type": "stream",
          "text": [
            "Max length: 72\n",
            "Label categories: ['HS' 'NOT_HS']\n"
          ],
          "name": "stdout"
        }
      ]
    },
    {
      "cell_type": "code",
      "metadata": {
        "colab": {
          "base_uri": "https://localhost:8080/"
        },
        "id": "7pRU30B4unF-",
        "outputId": "3efc829c-4dc7-41b7-8208-b2d3a6d1d10b"
      },
      "source": [
        "# load test data\r\n",
        "test_data_path=[\"/content/drive/My Drive/test_data_cleaned.csv\"]\r\n",
        "x_test, y_test, MAX_TEXT_LENGTH = load_datasets(test_data_path)\r\n",
        "CLASSES_LIST = np.unique(y_test)\r\n",
        "print('Label categories: ' + str(CLASSES_LIST))\r\n",
        "#0= HS, 1= NOT_HS"
      ],
      "execution_count": null,
      "outputs": [
        {
          "output_type": "stream",
          "text": [
            "Max length: 72\n",
            "Label categories: ['HS' 'NOT_HS']\n"
          ],
          "name": "stdout"
        }
      ]
    },
    {
      "cell_type": "code",
      "metadata": {
        "id": "XcpaFQRJV8YL"
      },
      "source": [
        "MAX_TEXT_LENGTH=84"
      ],
      "execution_count": null,
      "outputs": []
    },
    {
      "cell_type": "code",
      "metadata": {
        "colab": {
          "base_uri": "https://localhost:8080/"
        },
        "id": "plOnSpgUb18i",
        "outputId": "3e30e84c-98c6-4074-cd3e-2564b0738c72"
      },
      "source": [
        "x_train, x_dev,x_test, y_train, y_dev, y_test, train_y_cat, word_index = class_str_2_ind(x_train, x_dev,x_test, \n",
        "                                                                            y_train, y_dev,y_test,\n",
        "                                                                            CLASSES_LIST, MAX_FEATURES,\n",
        "                                                                            MAX_TEXT_LENGTH)\n",
        "dev_cat_y = np_utils.to_categorical(y_dev, len(CLASSES_LIST))\n",
        "test_cat_y = np_utils.to_categorical(y_test, len(CLASSES_LIST))"
      ],
      "execution_count": null,
      "outputs": [
        {
          "output_type": "stream",
          "text": [
            "Converting data to trainable form...\n",
            "Number of training examples: 9002\n",
            "Number of dev examples: 2000\n"
          ],
          "name": "stdout"
        }
      ]
    },
    {
      "cell_type": "code",
      "metadata": {
        "colab": {
          "base_uri": "https://localhost:8080/"
        },
        "id": "VQiq-BKShbLE",
        "outputId": "5649c95b-041f-47e7-81ac-c8496ce2d9a1"
      },
      "source": [
        "print(\"Tokens number: \"+str(len(word_index)))"
      ],
      "execution_count": null,
      "outputs": [
        {
          "output_type": "stream",
          "text": [
            "Tokens number: 30591\n"
          ],
          "name": "stdout"
        }
      ]
    },
    {
      "cell_type": "code",
      "metadata": {
        "colab": {
          "base_uri": "https://localhost:8080/"
        },
        "id": "WjJd-CWUiNlQ",
        "outputId": "d4b878ac-3092-498f-8718-8c9e8230f2ca"
      },
      "source": [
        "# Sequence length\n",
        "print(\"Original sequence length: \"+str(MAX_TEXT_LENGTH))\n"
      ],
      "execution_count": null,
      "outputs": [
        {
          "output_type": "stream",
          "text": [
            "Original sequence length: 84\n"
          ],
          "name": "stdout"
        }
      ]
    },
    {
      "cell_type": "code",
      "metadata": {
        "id": "05FCt-fs_h67"
      },
      "source": [
        ""
      ],
      "execution_count": null,
      "outputs": []
    },
    {
      "cell_type": "code",
      "metadata": {
        "id": "ZOfMSIVtiMZk"
      },
      "source": [
        "import tensorflow as tf\r\n",
        "early_stopping = tf.keras.callbacks.EarlyStopping(monitor='val_loss', patience=3)"
      ],
      "execution_count": null,
      "outputs": []
    },
    {
      "cell_type": "code",
      "metadata": {
        "id": "TRIAZtDUidul"
      },
      "source": [
        "def get_model(embedding_weights, word_index, vocab_dim, max_length,layer, dropout, optimizer, print_summary=True):\n",
        "    \"\"\"\n",
        "    Create Neural Network With an Embedding layer\n",
        "    \"\"\"\n",
        "    inp = Input(shape=(max_length,))\n",
        "    model = Embedding(input_dim=len(word_index)+1,\n",
        "                      output_dim=vocab_dim,\n",
        "                      trainable=False,\n",
        "                      weights=[embedding_weights])(inp)\n",
        "    model = layer(model)\n",
        "    model = Dropout(dropout)(model)       \n",
        "    model = Flatten()(model)\n",
        "    model = Dense(2, activation='sigmoid')(model)\n",
        "    model = Model(inputs=inp, outputs=model)\n",
        "    \n",
        "    model.compile(loss='categorical_crossentropy', optimizer=optimizer, metrics=['accuracy'])\n",
        "    if print_summary:\n",
        "        model.summary()\n",
        "    return model\n",
        "\n",
        "\n",
        "def get_main_model(word_index, WORD_MODEL, EMBED_SIZE, MAX_TEXT_LENGTH, \n",
        "                   layer, dropout,optimizer):\n",
        "   \n",
        "    tmp = get_embedding_matrix(word_index, WORD_MODEL, EMBED_SIZE)\n",
        "    model = get_model(tmp, word_index, EMBED_SIZE, MAX_TEXT_LENGTH, \n",
        "                      layer, dropout, optimizer= optimizer ,print_summary=True)\n",
        "    return model\n",
        "\n",
        "\n",
        "class TestCallback(Callback):\n",
        "    def __init__(self, test_data):\n",
        "        self.test_data = test_data\n",
        "\n",
        "    def on_epoch_end(self, epoch, logs={}):\n",
        "        x, y = self.test_data\n",
        "        loss, acc = self.model.evaluate(x, y, verbose=0)\n",
        "        print('\\nTesting loss: {}, acc: {}\\n'.format(loss, acc))\n",
        "\n",
        "def train_fit_predict(model, x_train, x_dev, y_train, y_dev,class_weight, batch_size, epochs, TestCallback=TestCallback):\n",
        "   \n",
        "    history = model.fit(x_train, y_train,\n",
        "                        batch_size=batch_size,\n",
        "                        epochs=epochs, verbose=1,\n",
        "                        validation_data=(x_dev, y_dev),\n",
        "                        class_weight=class_weight,\n",
        "                        callbacks=[TestCallback((x_dev, y_dev)),early_stopping])\n",
        "    return history, model"
      ],
      "execution_count": null,
      "outputs": []
    },
    {
      "cell_type": "markdown",
      "metadata": {
        "id": "n51vTvUGQOP4"
      },
      "source": [
        "#### Note: the prior work is the same for all of the neural learning models."
      ]
    },
    {
      "cell_type": "markdown",
      "metadata": {
        "id": "IXB7MDh9lLcM"
      },
      "source": [
        "#  RNN (LSTM) Model"
      ]
    },
    {
      "cell_type": "code",
      "metadata": {
        "colab": {
          "base_uri": "https://localhost:8080/"
        },
        "id": "YKpEhF4ljGqR",
        "outputId": "07d46604-646a-4da6-9c1b-5d0af52b698b"
      },
      "source": [
        "model = get_main_model(word_index, WORD_MODEL, EMBED_SIZE, MAX_TEXT_LENGTH, \n",
        "                       layer= LSTM(units=16, return_sequences=True, return_state=False), dropout=0.5, \n",
        "                       optimizer= optimizers.Adam(0.001))"
      ],
      "execution_count": null,
      "outputs": [
        {
          "output_type": "stream",
          "text": [
            "Building embedding matrix...\n",
            "Embedding matrix built.\n",
            "Model: \"model_23\"\n",
            "_________________________________________________________________\n",
            "Layer (type)                 Output Shape              Param #   \n",
            "=================================================================\n",
            "input_24 (InputLayer)        [(None, 84)]              0         \n",
            "_________________________________________________________________\n",
            "embedding_23 (Embedding)     (None, 84, 300)           9177600   \n",
            "_________________________________________________________________\n",
            "lstm_17 (LSTM)               (None, 84, 16)            20288     \n",
            "_________________________________________________________________\n",
            "dropout_23 (Dropout)         (None, 84, 16)            0         \n",
            "_________________________________________________________________\n",
            "flatten_23 (Flatten)         (None, 1344)              0         \n",
            "_________________________________________________________________\n",
            "dense_23 (Dense)             (None, 2)                 2690      \n",
            "=================================================================\n",
            "Total params: 9,200,578\n",
            "Trainable params: 22,978\n",
            "Non-trainable params: 9,177,600\n",
            "_________________________________________________________________\n"
          ],
          "name": "stdout"
        }
      ]
    },
    {
      "cell_type": "code",
      "metadata": {
        "colab": {
          "base_uri": "https://localhost:8080/"
        },
        "id": "nIdYkbZzjJpe",
        "outputId": "03b4ab18-d10c-48d3-ae82-9d62dcf6c991"
      },
      "source": [
        "time_start = time()\n",
        "history, model = train_fit_predict(model,\n",
        "                               x_train[:, :MAX_TEXT_LENGTH],\n",
        "                               x_dev[:, :MAX_TEXT_LENGTH],\n",
        "                               train_y_cat, dev_cat_y, class_weight=None,\n",
        "                               batch_size=500, epochs=15)\n",
        "time_start = time() - time_start\n",
        "\n",
        "print(\"Took : \"+str(np.round(time_start, 2))+\" (s)\") "
      ],
      "execution_count": null,
      "outputs": [
        {
          "output_type": "stream",
          "text": [
            "Epoch 1/15\n",
            "19/19 [==============================] - 6s 207ms/step - loss: 0.6436 - accuracy: 0.6412 - val_loss: 0.2681 - val_accuracy: 0.9480\n",
            "\n",
            "Testing loss: 0.2680942714214325, acc: 0.9480000138282776\n",
            "\n",
            "Epoch 2/15\n",
            "19/19 [==============================] - 4s 197ms/step - loss: 0.4598 - accuracy: 0.7855 - val_loss: 0.2153 - val_accuracy: 0.9340\n",
            "\n",
            "Testing loss: 0.21534624695777893, acc: 0.9340000152587891\n",
            "\n",
            "Epoch 3/15\n",
            "19/19 [==============================] - 4s 195ms/step - loss: 0.3301 - accuracy: 0.8435 - val_loss: 0.2031 - val_accuracy: 0.9220\n",
            "\n",
            "Testing loss: 0.2031441330909729, acc: 0.921999990940094\n",
            "\n",
            "Epoch 4/15\n",
            "19/19 [==============================] - 4s 192ms/step - loss: 0.2853 - accuracy: 0.8759 - val_loss: 0.1431 - val_accuracy: 0.9480\n",
            "\n",
            "Testing loss: 0.14307817816734314, acc: 0.9480000138282776\n",
            "\n",
            "Epoch 5/15\n",
            "19/19 [==============================] - 4s 204ms/step - loss: 0.2759 - accuracy: 0.8721 - val_loss: 0.1599 - val_accuracy: 0.9370\n",
            "\n",
            "Testing loss: 0.15994077920913696, acc: 0.9369999766349792\n",
            "\n",
            "Epoch 6/15\n",
            "19/19 [==============================] - 4s 195ms/step - loss: 0.2413 - accuracy: 0.8917 - val_loss: 0.1666 - val_accuracy: 0.9360\n",
            "\n",
            "Testing loss: 0.16660650074481964, acc: 0.9359999895095825\n",
            "\n",
            "Epoch 7/15\n",
            " 5/19 [======>.......................] - ETA: 2s - loss: 0.2367 - accuracy: 0.8937"
          ],
          "name": "stdout"
        }
      ]
    },
    {
      "cell_type": "code",
      "metadata": {
        "id": "Yt-l_Q9Aj44w"
      },
      "source": [
        "history.history.keys()"
      ],
      "execution_count": null,
      "outputs": []
    },
    {
      "cell_type": "code",
      "metadata": {
        "id": "-xsxi8A1j_Fq"
      },
      "source": [
        "model.evaluate(x_dev[:, :MAX_TEXT_LENGTH], dev_cat_y, batch_size=1000)\n"
      ],
      "execution_count": null,
      "outputs": []
    },
    {
      "cell_type": "code",
      "metadata": {
        "id": "HpxX_NlvxPl2"
      },
      "source": [
        "model.evaluate(x_test[:, :MAX_TEXT_LENGTH], test_cat_y, batch_size=1000)"
      ],
      "execution_count": null,
      "outputs": []
    },
    {
      "cell_type": "code",
      "metadata": {
        "id": "X1e78k51kZ1S"
      },
      "source": [
        "y_pred = np.argmax(model.predict(x_dev[:, :MAX_TEXT_LENGTH]), axis=1)\n",
        "\n",
        "print(creport(np.argmax(dev_cat_y, axis=1), y_pred,target_names=['HS', 'NOT_HS'],digits=4))"
      ],
      "execution_count": null,
      "outputs": []
    },
    {
      "cell_type": "code",
      "metadata": {
        "id": "DrGfmL_V0foH"
      },
      "source": [
        "y_pred = np.argmax(model.predict(x_test[:, :MAX_TEXT_LENGTH]), axis=1)\r\n",
        "\r\n",
        "print(creport(np.argmax(test_cat_y, axis=1), y_pred,target_names=['HS', 'NOT_HS'],digits=4))"
      ],
      "execution_count": null,
      "outputs": []
    },
    {
      "cell_type": "code",
      "metadata": {
        "id": "po5GA7KMkGUM",
        "colab": {
          "base_uri": "https://localhost:8080/"
        },
        "outputId": "0e930107-baef-41ef-bd8b-4888d46f465b"
      },
      "source": [
        "n = np.argmin(history.history['val_loss'])\n",
        "\n",
        "print(\"Optimal epoch : {}\".format(n))\n",
        "print(\"Accuracy on train : {} %\".format(np.round(history.history['accuracy'][n]*100, 2)))\n",
        "print(\"Accuracy on val : {} %\".format(np.round(history.history['val_accuracy'][n]*100, 2)))\n",
        "print(\"Loss on train : {}\".format(np.round(history.history['loss'][n]*100, 2)))\n",
        "print(\"Loss on Val : {}\".format(np.round(history.history['val_loss'][n]*100, 2)))"
      ],
      "execution_count": null,
      "outputs": [
        {
          "output_type": "stream",
          "text": [
            "Optimal epoch : 5\n",
            "Accuracy on train : 89.58 %\n",
            "Accuracy on val : 94.9 %\n",
            "Loss on train : 23.34\n",
            "Loss on Val : 13.59\n"
          ],
          "name": "stdout"
        }
      ]
    },
    {
      "cell_type": "code",
      "metadata": {
        "id": "PlVrg_zJkkLx",
        "colab": {
          "base_uri": "https://localhost:8080/",
          "height": 404
        },
        "outputId": "31f6ffb3-1393-43b4-f14b-095e833fe770"
      },
      "source": [
        "plt.figure(\"Loss Plot\", figsize=(12, 6))\n",
        "plt.plot(range(1, len(history.history['loss'])+1), history.history['loss'], label=\"train loss\")\n",
        "plt.plot(range(1, len(history.history['val_loss'])+1), history.history['val_loss'], label=\"val loss\")\n",
        "plt.plot(n+1,history.history[\"val_loss\"][n],\"r*\", label=\"Lowest loss\")\n",
        "plt.legend()\n",
        "plt.title(\"Learning Curve\")\n",
        "plt.ylabel(\"loss (cross_entropy)\")\n",
        "plt.xlabel(\"epochs\")\n",
        "plt.show();"
      ],
      "execution_count": null,
      "outputs": [
        {
          "output_type": "display_data",
          "data": {
            "image/png": "[encoded data removed]",
            "text/plain": [
              "<Figure size 864x432 with 1 Axes>"
            ]
          },
          "metadata": {
            "tags": [],
            "needs_background": "light"
          }
        }
      ]
    },
    {
      "cell_type": "code",
      "metadata": {
        "id": "qb4o3UXJkrLC",
        "colab": {
          "base_uri": "https://localhost:8080/",
          "height": 404
        },
        "outputId": "1ae9b2c9-ff86-48ec-a0ef-ca540befa477"
      },
      "source": [
        "plt.figure(\"Accuracy Plot\", figsize=(12, 6))\n",
        "plt.plot(range(1, len(history.history['accuracy'])+1), history.history['accuracy'], label=\"train accuracy\")\n",
        "plt.plot(range(1, len(history.history['val_accuracy'])+1), history.history['val_accuracy'], label=\"Val accuracy\")\n",
        "plt.plot(n+1,history.history[\"val_accuracy\"][n],\"r*\", label=\"Opt. Acc. (csp. Lowest loss)\")\n",
        "plt.legend()\n",
        "plt.title(\"Accuracy Curve\")\n",
        "plt.ylabel(\"accuracy\")\n",
        "plt.xlabel(\"epochs\")\n",
        "plt.show()"
      ],
      "execution_count": null,
      "outputs": [
        {
          "output_type": "display_data",
          "data": {
            "image/png": "[encoded data removed]",
            "text/plain": [
              "<Figure size 864x432 with 1 Axes>"
            ]
          },
          "metadata": {
            "tags": [],
            "needs_background": "light"
          }
        }
      ]
    },
    {
      "cell_type": "code",
      "metadata": {
        "id": "kZp0EW06kwhy",
        "colab": {
          "base_uri": "https://localhost:8080/",
          "height": 564
        },
        "outputId": "ba6b822a-905e-41a5-ef6e-656c53317e7a"
      },
      "source": [
        "from keras.utils import plot_model\n",
        "plot_model(model, to_file='RNN_LSTM_model.png', show_shapes=False, show_layer_names=False)"
      ],
      "execution_count": null,
      "outputs": [
        {
          "output_type": "execute_result",
          "data": {
            "image/png": "[encoded data removed]",
            "text/plain": [
              "<IPython.core.display.Image object>"
            ]
          },
          "metadata": {
            "tags": []
          },
          "execution_count": 169
        }
      ]
    },
    {
      "cell_type": "markdown",
      "metadata": {
        "id": "F-XRhkE5wNkw"
      },
      "source": [
        "# RNN (BLSTM) Model \n"
      ]
    },
    {
      "cell_type": "code",
      "metadata": {
        "id": "wOhvzj0WXZ-g",
        "colab": {
          "base_uri": "https://localhost:8080/"
        },
        "outputId": "abe44f32-14e2-448d-b83f-c0f0bc416471"
      },
      "source": [
        "model = get_main_model(word_index, WORD_MODEL, EMBED_SIZE, MAX_TEXT_LENGTH, \n",
        "                       layer= Bidirectional(LSTM(units=32, return_sequences=True, return_state=False)), \n",
        "                       dropout=0.2, optimizer=optimizers.Adam())"
      ],
      "execution_count": null,
      "outputs": [
        {
          "output_type": "stream",
          "text": [
            "Building embedding matrix...\n",
            "Embedding matrix built.\n",
            "Model: \"model_20\"\n",
            "_________________________________________________________________\n",
            "Layer (type)                 Output Shape              Param #   \n",
            "=================================================================\n",
            "input_21 (InputLayer)        [(None, 84)]              0         \n",
            "_________________________________________________________________\n",
            "embedding_20 (Embedding)     (None, 84, 300)           9177600   \n",
            "_________________________________________________________________\n",
            "bidirectional_7 (Bidirection (None, 84, 64)            85248     \n",
            "_________________________________________________________________\n",
            "dropout_20 (Dropout)         (None, 84, 64)            0         \n",
            "_________________________________________________________________\n",
            "flatten_20 (Flatten)         (None, 5376)              0         \n",
            "_________________________________________________________________\n",
            "dense_20 (Dense)             (None, 2)                 10754     \n",
            "=================================================================\n",
            "Total params: 9,273,602\n",
            "Trainable params: 96,002\n",
            "Non-trainable params: 9,177,600\n",
            "_________________________________________________________________\n"
          ],
          "name": "stdout"
        }
      ]
    },
    {
      "cell_type": "code",
      "metadata": {
        "id": "i62FHvSzXk7Q",
        "colab": {
          "base_uri": "https://localhost:8080/"
        },
        "outputId": "fcfb1329-9914-443a-e502-89dd42e79a69"
      },
      "source": [
        "time_start = time()\n",
        "history, model = train_fit_predict(model,\n",
        "                               x_train[:, :MAX_TEXT_LENGTH],\n",
        "                               x_dev[:, :MAX_TEXT_LENGTH],\n",
        "                               train_y_cat, dev_cat_y, class_weight=None,\n",
        "                               batch_size=500, epochs=15)\n",
        "time_start = time() - time_start\n",
        "\n",
        "print(\"Took : \"+str(np.round(time_start, 2))+\" (s)\") "
      ],
      "execution_count": null,
      "outputs": [
        {
          "output_type": "stream",
          "text": [
            "Epoch 1/15\n",
            "19/19 [==============================] - 20s 844ms/step - loss: 0.5744 - accuracy: 0.6810 - val_loss: 0.2263 - val_accuracy: 0.9110\n",
            "\n",
            "Testing loss: 0.2263077050447464, acc: 0.9110000133514404\n",
            "\n",
            "Epoch 2/15\n",
            "19/19 [==============================] - 12s 642ms/step - loss: 0.3598 - accuracy: 0.8416 - val_loss: 0.2345 - val_accuracy: 0.9070\n",
            "\n",
            "Testing loss: 0.23447011411190033, acc: 0.9070000052452087\n",
            "\n",
            "Epoch 3/15\n",
            "19/19 [==============================] - 12s 644ms/step - loss: 0.2957 - accuracy: 0.8648 - val_loss: 0.1955 - val_accuracy: 0.9190\n",
            "\n",
            "Testing loss: 0.19551408290863037, acc: 0.9190000295639038\n",
            "\n",
            "Epoch 4/15\n",
            "19/19 [==============================] - 12s 645ms/step - loss: 0.2583 - accuracy: 0.8794 - val_loss: 0.1618 - val_accuracy: 0.9380\n",
            "\n",
            "Testing loss: 0.16178658604621887, acc: 0.9380000233650208\n",
            "\n",
            "Epoch 5/15\n",
            "19/19 [==============================] - 12s 648ms/step - loss: 0.2630 - accuracy: 0.8756 - val_loss: 0.1538 - val_accuracy: 0.9380\n",
            "\n",
            "Testing loss: 0.15381371974945068, acc: 0.9380000233650208\n",
            "\n",
            "Epoch 6/15\n",
            "19/19 [==============================] - 12s 646ms/step - loss: 0.2253 - accuracy: 0.8981 - val_loss: 0.1707 - val_accuracy: 0.9330\n",
            "\n",
            "Testing loss: 0.17071005702018738, acc: 0.9330000281333923\n",
            "\n",
            "Epoch 7/15\n",
            "19/19 [==============================] - 12s 653ms/step - loss: 0.2225 - accuracy: 0.9026 - val_loss: 0.1903 - val_accuracy: 0.9240\n",
            "\n",
            "Testing loss: 0.19031529128551483, acc: 0.9240000247955322\n",
            "\n",
            "Epoch 8/15\n",
            "19/19 [==============================] - 12s 654ms/step - loss: 0.1958 - accuracy: 0.9177 - val_loss: 0.1614 - val_accuracy: 0.9440\n",
            "\n",
            "Testing loss: 0.16137829422950745, acc: 0.9440000057220459\n",
            "\n",
            "Took : 115.58 (s)\n"
          ],
          "name": "stdout"
        }
      ]
    },
    {
      "cell_type": "code",
      "metadata": {
        "id": "IWTJMbAqX5Gj",
        "colab": {
          "base_uri": "https://localhost:8080/"
        },
        "outputId": "5b8b3a1c-1807-44a2-e706-2aa5eb56770d"
      },
      "source": [
        "model.evaluate(x_dev[:, :MAX_TEXT_LENGTH], dev_cat_y, batch_size=1000)"
      ],
      "execution_count": null,
      "outputs": [
        {
          "output_type": "stream",
          "text": [
            "1/1 [==============================] - 1s 664ms/step - loss: 0.1614 - accuracy: 0.9440\n"
          ],
          "name": "stdout"
        },
        {
          "output_type": "execute_result",
          "data": {
            "text/plain": [
              "[0.16137829422950745, 0.9440000057220459]"
            ]
          },
          "metadata": {
            "tags": []
          },
          "execution_count": 199
        }
      ]
    },
    {
      "cell_type": "code",
      "metadata": {
        "id": "Yf0CVyJrX-hu",
        "colab": {
          "base_uri": "https://localhost:8080/"
        },
        "outputId": "918565b6-0f46-4fcc-f9e1-fd50661c54a9"
      },
      "source": [
        "y_pred = np.argmax(model.predict(x_dev[:, :MAX_TEXT_LENGTH]), axis=1)\n",
        "\n",
        "print(creport(np.argmax(dev_cat_y, axis=1), y_pred,target_names=['HS', 'NOT_HS'],digits=4))"
      ],
      "execution_count": null,
      "outputs": [
        {
          "output_type": "stream",
          "text": [
            "              precision    recall  f1-score   support\n",
            "\n",
            "          HS     0.3750    0.4091    0.3913        44\n",
            "      NOT_HS     0.9727    0.9686    0.9706       956\n",
            "\n",
            "    accuracy                         0.9440      1000\n",
            "   macro avg     0.6738    0.6889    0.6810      1000\n",
            "weighted avg     0.9464    0.9440    0.9452      1000\n",
            "\n"
          ],
          "name": "stdout"
        }
      ]
    },
    {
      "cell_type": "code",
      "metadata": {
        "id": "RWcY8Kvt1F8N",
        "colab": {
          "base_uri": "https://localhost:8080/"
        },
        "outputId": "97186852-3ffc-41c0-f57a-f76b1f0cca8c"
      },
      "source": [
        "model.evaluate(x_test[:, :MAX_TEXT_LENGTH], test_cat_y, batch_size=1000)"
      ],
      "execution_count": null,
      "outputs": [
        {
          "output_type": "stream",
          "text": [
            "2/2 [==============================] - 1s 605ms/step - loss: 0.1391 - accuracy: 0.9475\n"
          ],
          "name": "stdout"
        },
        {
          "output_type": "execute_result",
          "data": {
            "text/plain": [
              "[0.1391032189130783, 0.9474999904632568]"
            ]
          },
          "metadata": {
            "tags": []
          },
          "execution_count": 201
        }
      ]
    },
    {
      "cell_type": "code",
      "metadata": {
        "id": "osZzpDkZ1GDd",
        "colab": {
          "base_uri": "https://localhost:8080/"
        },
        "outputId": "52e4c906-87cb-4b3b-b772-f438a5556bd3"
      },
      "source": [
        "y_pred = np.argmax(model.predict(x_test[:, :MAX_TEXT_LENGTH]), axis=1)\r\n",
        "\r\n",
        "print(creport(np.argmax(test_cat_y, axis=1), y_pred,target_names=['HS', 'NOT_HS'],digits=4))"
      ],
      "execution_count": null,
      "outputs": [
        {
          "output_type": "stream",
          "text": [
            "              precision    recall  f1-score   support\n",
            "\n",
            "          HS     0.4787    0.4455    0.4615       101\n",
            "      NOT_HS     0.9706    0.9742    0.9724      1899\n",
            "\n",
            "    accuracy                         0.9475      2000\n",
            "   macro avg     0.7247    0.7099    0.7170      2000\n",
            "weighted avg     0.9458    0.9475    0.9466      2000\n",
            "\n"
          ],
          "name": "stdout"
        }
      ]
    },
    {
      "cell_type": "code",
      "metadata": {
        "id": "Hjkr6-woi004",
        "colab": {
          "base_uri": "https://localhost:8080/",
          "height": 564
        },
        "outputId": "577c6d85-7cd5-41a0-dffa-9b1ab4a0ac5e"
      },
      "source": [
        "plot_model(model, to_file='RNN_BLSTM_model.png', show_shapes=False, show_layer_names=False)"
      ],
      "execution_count": null,
      "outputs": [
        {
          "output_type": "execute_result",
          "data": {
            "image/png": "[encoded data removed]",
            "text/plain": [
              "<IPython.core.display.Image object>"
            ]
          },
          "metadata": {
            "tags": []
          },
          "execution_count": 203
        }
      ]
    },
    {
      "cell_type": "markdown",
      "metadata": {
        "id": "noAxq9pOwUrb"
      },
      "source": [
        "# RNN (GRU) Model\n"
      ]
    },
    {
      "cell_type": "code",
      "metadata": {
        "id": "cq0ES8O8djoG",
        "colab": {
          "base_uri": "https://localhost:8080/"
        },
        "outputId": "21c3d260-6178-4af1-9989-ac6c013bb5e4"
      },
      "source": [
        "model = get_main_model(word_index, WORD_MODEL, EMBED_SIZE, MAX_TEXT_LENGTH, \n",
        "                       layer= GRU(units=16, return_sequences=True, return_state=False), \n",
        "                       dropout=0.5, optimizer=optimizers.Adam())"
      ],
      "execution_count": null,
      "outputs": [
        {
          "output_type": "stream",
          "text": [
            "Building embedding matrix...\n",
            "Embedding matrix built.\n",
            "Model: \"model_17\"\n",
            "_________________________________________________________________\n",
            "Layer (type)                 Output Shape              Param #   \n",
            "=================================================================\n",
            "input_18 (InputLayer)        [(None, 84)]              0         \n",
            "_________________________________________________________________\n",
            "embedding_17 (Embedding)     (None, 84, 300)           9177600   \n",
            "_________________________________________________________________\n",
            "gru_5 (GRU)                  (None, 84, 16)            15264     \n",
            "_________________________________________________________________\n",
            "dropout_17 (Dropout)         (None, 84, 16)            0         \n",
            "_________________________________________________________________\n",
            "flatten_17 (Flatten)         (None, 1344)              0         \n",
            "_________________________________________________________________\n",
            "dense_17 (Dense)             (None, 2)                 2690      \n",
            "=================================================================\n",
            "Total params: 9,195,554\n",
            "Trainable params: 17,954\n",
            "Non-trainable params: 9,177,600\n",
            "_________________________________________________________________\n"
          ],
          "name": "stdout"
        }
      ]
    },
    {
      "cell_type": "code",
      "metadata": {
        "id": "SGyK0YxHeHxU",
        "colab": {
          "base_uri": "https://localhost:8080/"
        },
        "outputId": "d856d74d-9d55-4c2c-adf8-412eb8c44984"
      },
      "source": [
        "time_start = time()\n",
        "history, model = train_fit_predict(model,\n",
        "                               x_train[:, :MAX_TEXT_LENGTH],\n",
        "                               x_dev[:, :MAX_TEXT_LENGTH],\n",
        "                               train_y_cat, dev_cat_y, class_weight=None,\n",
        "                               batch_size=500, epochs=15)\n",
        "time_start = time() - time_start\n",
        "\n",
        "print(\"Took : \"+str(np.round(time_start, 2))+\" (s)\") "
      ],
      "execution_count": null,
      "outputs": [
        {
          "output_type": "stream",
          "text": [
            "Epoch 1/15\n",
            "19/19 [==============================] - 7s 246ms/step - loss: 0.5819 - accuracy: 0.7140 - val_loss: 0.2668 - val_accuracy: 0.9450\n",
            "\n",
            "Testing loss: 0.2667834162712097, acc: 0.9449999928474426\n",
            "\n",
            "Epoch 2/15\n",
            "19/19 [==============================] - 4s 215ms/step - loss: 0.3862 - accuracy: 0.8283 - val_loss: 0.1986 - val_accuracy: 0.9320\n",
            "\n",
            "Testing loss: 0.19862277805805206, acc: 0.9319999814033508\n",
            "\n",
            "Epoch 3/15\n",
            "19/19 [==============================] - 4s 219ms/step - loss: 0.3182 - accuracy: 0.8586 - val_loss: 0.1707 - val_accuracy: 0.9310\n",
            "\n",
            "Testing loss: 0.17070698738098145, acc: 0.9309999942779541\n",
            "\n",
            "Epoch 4/15\n",
            "19/19 [==============================] - 4s 210ms/step - loss: 0.2870 - accuracy: 0.8693 - val_loss: 0.1736 - val_accuracy: 0.9320\n",
            "\n",
            "Testing loss: 0.17363819479942322, acc: 0.9319999814033508\n",
            "\n",
            "Epoch 5/15\n",
            "19/19 [==============================] - 4s 226ms/step - loss: 0.2870 - accuracy: 0.8656 - val_loss: 0.1696 - val_accuracy: 0.9300\n",
            "\n",
            "Testing loss: 0.16962240636348724, acc: 0.9300000071525574\n",
            "\n",
            "Epoch 6/15\n",
            "19/19 [==============================] - 4s 225ms/step - loss: 0.2654 - accuracy: 0.8809 - val_loss: 0.1708 - val_accuracy: 0.9310\n",
            "\n",
            "Testing loss: 0.17082272469997406, acc: 0.9309999942779541\n",
            "\n",
            "Epoch 7/15\n",
            "19/19 [==============================] - 4s 229ms/step - loss: 0.2641 - accuracy: 0.8839 - val_loss: 0.1713 - val_accuracy: 0.9370\n",
            "\n",
            "Testing loss: 0.17133529484272003, acc: 0.9369999766349792\n",
            "\n",
            "Epoch 8/15\n",
            "19/19 [==============================] - 4s 232ms/step - loss: 0.2567 - accuracy: 0.8832 - val_loss: 0.1908 - val_accuracy: 0.9350\n",
            "\n",
            "Testing loss: 0.19081224501132965, acc: 0.9350000023841858\n",
            "\n",
            "Took : 40.57 (s)\n"
          ],
          "name": "stdout"
        }
      ]
    },
    {
      "cell_type": "code",
      "metadata": {
        "id": "8ENyBQVzejz9",
        "colab": {
          "base_uri": "https://localhost:8080/"
        },
        "outputId": "ac44bf5f-e88f-4276-c472-d3a4777ab961"
      },
      "source": [
        "model.evaluate(x_dev[:, :MAX_TEXT_LENGTH], dev_cat_y, batch_size=1000)"
      ],
      "execution_count": null,
      "outputs": [
        {
          "output_type": "stream",
          "text": [
            "1/1 [==============================] - 0s 202ms/step - loss: 0.1908 - accuracy: 0.9350\n"
          ],
          "name": "stdout"
        },
        {
          "output_type": "execute_result",
          "data": {
            "text/plain": [
              "[0.19081221520900726, 0.9350000023841858]"
            ]
          },
          "metadata": {
            "tags": []
          },
          "execution_count": 179
        }
      ]
    },
    {
      "cell_type": "code",
      "metadata": {
        "id": "ZoiPJ2MXejop",
        "colab": {
          "base_uri": "https://localhost:8080/"
        },
        "outputId": "fc79fbeb-33ec-42ac-e008-33f36e7c639c"
      },
      "source": [
        "y_pred = np.argmax(model.predict(x_dev[:, :MAX_TEXT_LENGTH]), axis=1)\n",
        "\n",
        "print(creport(np.argmax(dev_cat_y, axis=1), y_pred,target_names=['HS', 'NOT_HS'],digits=4))"
      ],
      "execution_count": null,
      "outputs": [
        {
          "output_type": "stream",
          "text": [
            "              precision    recall  f1-score   support\n",
            "\n",
            "          HS     0.3671    0.6591    0.4715        44\n",
            "      NOT_HS     0.9837    0.9477    0.9654       956\n",
            "\n",
            "    accuracy                         0.9350      1000\n",
            "   macro avg     0.6754    0.8034    0.7185      1000\n",
            "weighted avg     0.9566    0.9350    0.9436      1000\n",
            "\n"
          ],
          "name": "stdout"
        }
      ]
    },
    {
      "cell_type": "code",
      "metadata": {
        "id": "4UMgjml0i4nQ",
        "colab": {
          "base_uri": "https://localhost:8080/",
          "height": 564
        },
        "outputId": "1587de1b-2c37-4d1e-fadc-e2231ed95c9e"
      },
      "source": [
        "plot_model(model, to_file='RNN_GRU_model.png', show_shapes=False, show_layer_names=False)"
      ],
      "execution_count": null,
      "outputs": [
        {
          "output_type": "execute_result",
          "data": {
            "image/png": "[encoded data removed]",
            "text/plain": [
              "<IPython.core.display.Image object>"
            ]
          },
          "metadata": {
            "tags": []
          },
          "execution_count": 181
        }
      ]
    },
    {
      "cell_type": "code",
      "metadata": {
        "id": "h5gNHVTc1U0R",
        "colab": {
          "base_uri": "https://localhost:8080/"
        },
        "outputId": "cc4120e5-990d-4650-f964-f1a14e99567b"
      },
      "source": [
        "model.evaluate(x_test[:, :MAX_TEXT_LENGTH], test_cat_y, batch_size=1000)"
      ],
      "execution_count": null,
      "outputs": [
        {
          "output_type": "stream",
          "text": [
            "2/2 [==============================] - 0s 188ms/step - loss: 0.2029 - accuracy: 0.9230\n"
          ],
          "name": "stdout"
        },
        {
          "output_type": "execute_result",
          "data": {
            "text/plain": [
              "[0.2029138207435608, 0.9229999780654907]"
            ]
          },
          "metadata": {
            "tags": []
          },
          "execution_count": 182
        }
      ]
    },
    {
      "cell_type": "code",
      "metadata": {
        "id": "k5rPTgIn1U3L",
        "colab": {
          "base_uri": "https://localhost:8080/"
        },
        "outputId": "56bd7dbc-03cc-4faa-f397-aa625a4bcae5"
      },
      "source": [
        "y_pred = np.argmax(model.predict(x_test[:, :MAX_TEXT_LENGTH]), axis=1)\r\n",
        "\r\n",
        "print(creport(np.argmax(test_cat_y, axis=1), y_pred,target_names=['HS', 'NOT_HS'],digits=4))"
      ],
      "execution_count": null,
      "outputs": [
        {
          "output_type": "stream",
          "text": [
            "              precision    recall  f1-score   support\n",
            "\n",
            "          HS     0.3520    0.6238    0.4500       101\n",
            "      NOT_HS     0.9791    0.9389    0.9586      1899\n",
            "\n",
            "    accuracy                         0.9230      2000\n",
            "   macro avg     0.6655    0.7813    0.7043      2000\n",
            "weighted avg     0.9475    0.9230    0.9329      2000\n",
            "\n"
          ],
          "name": "stdout"
        }
      ]
    },
    {
      "cell_type": "markdown",
      "metadata": {
        "id": "EjBmZsD8wbF2"
      },
      "source": [
        "# CNN Model\n",
        "[Colab Notebook](https://colab.research.google.com/drive/1_USllONVZIbf88aoPuQrzg9sg5HtY7K7)"
      ]
    },
    {
      "cell_type": "markdown",
      "metadata": {
        "id": "ShqpL2T8wdaa"
      },
      "source": [
        "# Combined CNN-RNN Models\n",
        "[Colab Notebook](https://colab.research.google.com/drive/1LbZdJNvTzTqu6qLjDbOaeccJl36anJEw)"
      ]
    },
    {
      "cell_type": "code",
      "metadata": {
        "id": "PMeeL-Gqfy6p"
      },
      "source": [
        ""
      ],
      "execution_count": null,
      "outputs": []
    }
  ]
}