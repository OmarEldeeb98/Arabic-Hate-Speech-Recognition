{
  "nbformat": 4,
  "nbformat_minor": 0,
  "metadata": {
    "colab": {
      "name": "SSP_CCE_Proj2_20202021_Hate_Speech_Detection_Neural_Learning_Models_Combined_CNN_RNN.ipynb",
      "provenance": [],
      "collapsed_sections": [],
      "toc_visible": true
    },
    "kernelspec": {
      "display_name": "Python 3",
      "name": "python3"
    }
  },
  "cells": [
    {
      "cell_type": "markdown",
      "metadata": {
        "id": "O8Ldg8rncSnN"
      },
      "source": [
        "In this notebook, we conduct a preliminary experiment on the detection of hate speech in Arabic tweets as part of our participation in the Hate Speech Detection subtask in [OSACT4 workshop](http://edinburghnlp.inf.ed.ac.uk/workshops/OSACT4/)."
      ]
    },
    {
      "cell_type": "code",
      "metadata": {
        "colab": {
          "base_uri": "https://localhost:8080/"
        },
        "id": "nXadG6xaxgU3",
        "outputId": "34718684-8900-4896-d7b8-2986524ebf4a"
      },
      "source": [
        "from google.colab import drive\r\n",
        "drive.mount('/content/drive')"
      ],
      "execution_count": null,
      "outputs": [
        {
          "output_type": "stream",
          "text": [
            "Mounted at /content/drive\n"
          ],
          "name": "stdout"
        }
      ]
    },
    {
      "cell_type": "markdown",
      "metadata": {
        "id": "wrCuCYE3b7Zs"
      },
      "source": [
        "# Hate speech Detection using Combined CNN-RNN\n",
        "\n",
        ">* CNN-LSTM\n",
        ">* CNN-BLSTM\n",
        ">* CNN-GRU\n",
        "\n",
        "\n"
      ]
    },
    {
      "cell_type": "code",
      "metadata": {
        "id": "jnSw0od87C8-"
      },
      "source": [
        "from keras.layers import Embedding, Dense, Dropout, Input, LSTM, Bidirectional,GRU\n",
        "from keras.layers import MaxPooling1D, Conv1D, Flatten, TimeDistributed\n",
        "from keras.preprocessing import sequence, text\n",
        "from keras.models import Model\n",
        "from keras.utils import np_utils\n",
        "from keras.callbacks import Callback\n",
        "\n",
        "from gensim.models.keyedvectors import KeyedVectors\n",
        "from sklearn import preprocessing\n",
        "from time import time\n",
        "import pandas as pd\n",
        "import numpy as np\n",
        "import matplotlib.pyplot as plt\n",
        "import seaborn as sns\n",
        "import csv\n",
        "\n",
        "from keras import optimizers\n",
        "\n",
        "from sklearn.metrics import f1_score\n",
        "from sklearn.metrics import accuracy_score\n",
        "\n",
        "from sklearn.utils import class_weight\n",
        "\n",
        "from sklearn import preprocessing\n",
        "from sklearn.metrics import (\n",
        "    classification_report as creport\n",
        ")\n"
      ],
      "execution_count": null,
      "outputs": []
    },
    {
      "cell_type": "markdown",
      "metadata": {
        "id": "n6_dt2cDtobO"
      },
      "source": [
        "# Data and AraVec2.0 (pre-trained word embeddings model) Loading"
      ]
    },
    {
      "cell_type": "code",
      "metadata": {
        "colab": {
          "base_uri": "https://localhost:8080/"
        },
        "id": "2Mn0KDJg-o5u",
        "outputId": "219800fe-0127-433d-d2e4-c38c701a3d50"
      },
      "source": [
        "#pre-trained word embedding: https://github.com/bakrianoo/aravec/tree/master/AraVec%202.0\n",
        "\"\"\"\n",
        "Citation:\n",
        "Abu Bakr Soliman, Kareem Eisa, and Samhaa R. El-Beltagy, “AraVec:\n",
        "A set of Arabic Word Embedding Models for use in Arabic NLP”,\n",
        "in proceedings of the 3rd International Conference on \n",
        "Arabic Computational Linguistics (ACLing 2017), Dubai, UAE, 2017.\n",
        "\"\"\"\n",
        "! unzip '/content/drive/My Drive/tweets_sg_300.zip'  "
      ],
      "execution_count": null,
      "outputs": [
        {
          "output_type": "stream",
          "text": [
            "Archive:  /content/drive/My Drive/tweets_sg_300.zip\n",
            "  inflating: tweets_sg_300           \n",
            "  inflating: tweets_sg_300.trainables.syn1neg.npy  \n",
            "  inflating: tweets_sg_300.wv.vectors.npy  \n"
          ],
          "name": "stdout"
        }
      ]
    },
    {
      "cell_type": "code",
      "metadata": {
        "id": "V3kKX6Ra-p1d"
      },
      "source": [
        "# Word_embedding_path\n",
        "embedding_path = '/content/tweets_sg_300'           #Twitter-Skipgram model-300d(trained on 77,600,000 Arabic tweets)"
      ],
      "execution_count": null,
      "outputs": []
    },
    {
      "cell_type": "code",
      "metadata": {
        "colab": {
          "base_uri": "https://localhost:8080/",
          "height": 424
        },
        "id": "JpRSY6aVACVF",
        "outputId": "0e50371a-4d04-4d49-de1c-f05c615f51db"
      },
      "source": [
        "train_data = pd.read_csv('/content/drive/My Drive/train_data.csv')\n",
        "train_data"
      ],
      "execution_count": null,
      "outputs": [
        {
          "output_type": "execute_result",
          "data": {
            "text/html": [
              "<div>\n",
              "<style scoped>\n",
              "    .dataframe tbody tr th:only-of-type {\n",
              "        vertical-align: middle;\n",
              "    }\n",
              "\n",
              "    .dataframe tbody tr th {\n",
              "        vertical-align: top;\n",
              "    }\n",
              "\n",
              "    .dataframe thead th {\n",
              "        text-align: right;\n",
              "    }\n",
              "</style>\n",
              "<table border=\"1\" class=\"dataframe\">\n",
              "  <thead>\n",
              "    <tr style=\"text-align: right;\">\n",
              "      <th></th>\n",
              "      <th>Tweet</th>\n",
              "      <th>Offensive</th>\n",
              "      <th>Hate</th>\n",
              "    </tr>\n",
              "  </thead>\n",
              "  <tbody>\n",
              "    <tr>\n",
              "      <th>0</th>\n",
              "      <td>الحمدلله يارب فوز مهم يا زمالك.. كل الدعم ليكم...</td>\n",
              "      <td>NOT_OFF</td>\n",
              "      <td>NOT_HS</td>\n",
              "    </tr>\n",
              "    <tr>\n",
              "      <th>1</th>\n",
              "      <td>فدوه يا بخت فدوه يا زمن واحد منكم يجيبه</td>\n",
              "      <td>NOT_OFF</td>\n",
              "      <td>NOT_HS</td>\n",
              "    </tr>\n",
              "    <tr>\n",
              "      <th>2</th>\n",
              "      <td>RT @USER: يا رب يا واحد يا أحد بحق يوم الاحد ا...</td>\n",
              "      <td>OFF</td>\n",
              "      <td>HS</td>\n",
              "    </tr>\n",
              "    <tr>\n",
              "      <th>3</th>\n",
              "      <td>RT @USER: #هوا_الحرية يا وجع قلبي عليكي يا امي...</td>\n",
              "      <td>NOT_OFF</td>\n",
              "      <td>NOT_HS</td>\n",
              "    </tr>\n",
              "    <tr>\n",
              "      <th>4</th>\n",
              "      <td>يا بكون بحياتك الأهم يا إما ما بدي أكون 🎼</td>\n",
              "      <td>NOT_OFF</td>\n",
              "      <td>NOT_HS</td>\n",
              "    </tr>\n",
              "    <tr>\n",
              "      <th>...</th>\n",
              "      <td>...</td>\n",
              "      <td>...</td>\n",
              "      <td>...</td>\n",
              "    </tr>\n",
              "    <tr>\n",
              "      <th>6995</th>\n",
              "      <td>@USER يا حمار ، يا جاهل ، نسبة الباطل ما بتتحس...</td>\n",
              "      <td>OFF</td>\n",
              "      <td>NOT_HS</td>\n",
              "    </tr>\n",
              "    <tr>\n",
              "      <th>6996</th>\n",
              "      <td>RT @USER: @USER كل زق يا طاقية يا واطي يا حقير...</td>\n",
              "      <td>OFF</td>\n",
              "      <td>NOT_HS</td>\n",
              "    </tr>\n",
              "    <tr>\n",
              "      <th>6997</th>\n",
              "      <td>@USER&lt;LF&gt;يا كبير يا ممتع يا نجم لابد أن تعي جي...</td>\n",
              "      <td>NOT_OFF</td>\n",
              "      <td>NOT_HS</td>\n",
              "    </tr>\n",
              "    <tr>\n",
              "      <th>6998</th>\n",
              "      <td>يا رب الاتحاد يفوز يا رب. 😭😭 #الاتحاد_النصر</td>\n",
              "      <td>NOT_OFF</td>\n",
              "      <td>NOT_HS</td>\n",
              "    </tr>\n",
              "    <tr>\n",
              "      <th>6999</th>\n",
              "      <td>يعز عليا ادخل الشارع وملاقيكش واقف مستنيني في ...</td>\n",
              "      <td>NOT_OFF</td>\n",
              "      <td>NOT_HS</td>\n",
              "    </tr>\n",
              "  </tbody>\n",
              "</table>\n",
              "<p>7000 rows × 3 columns</p>\n",
              "</div>"
            ],
            "text/plain": [
              "                                                  Tweet Offensive    Hate\n",
              "0     الحمدلله يارب فوز مهم يا زمالك.. كل الدعم ليكم...   NOT_OFF  NOT_HS\n",
              "1               فدوه يا بخت فدوه يا زمن واحد منكم يجيبه   NOT_OFF  NOT_HS\n",
              "2     RT @USER: يا رب يا واحد يا أحد بحق يوم الاحد ا...       OFF      HS\n",
              "3     RT @USER: #هوا_الحرية يا وجع قلبي عليكي يا امي...   NOT_OFF  NOT_HS\n",
              "4             يا بكون بحياتك الأهم يا إما ما بدي أكون 🎼   NOT_OFF  NOT_HS\n",
              "...                                                 ...       ...     ...\n",
              "6995  @USER يا حمار ، يا جاهل ، نسبة الباطل ما بتتحس...       OFF  NOT_HS\n",
              "6996  RT @USER: @USER كل زق يا طاقية يا واطي يا حقير...       OFF  NOT_HS\n",
              "6997  @USER<LF>يا كبير يا ممتع يا نجم لابد أن تعي جي...   NOT_OFF  NOT_HS\n",
              "6998        يا رب الاتحاد يفوز يا رب. 😭😭 #الاتحاد_النصر   NOT_OFF  NOT_HS\n",
              "6999  يعز عليا ادخل الشارع وملاقيكش واقف مستنيني في ...   NOT_OFF  NOT_HS\n",
              "\n",
              "[7000 rows x 3 columns]"
            ]
          },
          "metadata": {
            "tags": []
          },
          "execution_count": 5
        }
      ]
    },
    {
      "cell_type": "code",
      "metadata": {
        "colab": {
          "base_uri": "https://localhost:8080/",
          "height": 424
        },
        "id": "d5frVvfiL72D",
        "outputId": "12542188-2ea0-4afa-9404-91d906556947"
      },
      "source": [
        "dev_data = pd.read_csv('/content/drive/My Drive/dev_data.csv')\n",
        "dev_data"
      ],
      "execution_count": null,
      "outputs": [
        {
          "output_type": "execute_result",
          "data": {
            "text/html": [
              "<div>\n",
              "<style scoped>\n",
              "    .dataframe tbody tr th:only-of-type {\n",
              "        vertical-align: middle;\n",
              "    }\n",
              "\n",
              "    .dataframe tbody tr th {\n",
              "        vertical-align: top;\n",
              "    }\n",
              "\n",
              "    .dataframe thead th {\n",
              "        text-align: right;\n",
              "    }\n",
              "</style>\n",
              "<table border=\"1\" class=\"dataframe\">\n",
              "  <thead>\n",
              "    <tr style=\"text-align: right;\">\n",
              "      <th></th>\n",
              "      <th>Tweet</th>\n",
              "      <th>Offensive</th>\n",
              "      <th>Hate</th>\n",
              "    </tr>\n",
              "  </thead>\n",
              "  <tbody>\n",
              "    <tr>\n",
              "      <th>0</th>\n",
              "      <td>فى حاجات مينفعش نلفت نظركوا ليها زى الاصول كده...</td>\n",
              "      <td>NOT_OFF</td>\n",
              "      <td>NOT_HS</td>\n",
              "    </tr>\n",
              "    <tr>\n",
              "      <th>1</th>\n",
              "      <td>RT @USER: وعيون تنادينا تحايل فينا و نقول يا ع...</td>\n",
              "      <td>NOT_OFF</td>\n",
              "      <td>NOT_HS</td>\n",
              "    </tr>\n",
              "    <tr>\n",
              "      <th>2</th>\n",
              "      <td>يا بلادي يا أم البلاد يا بلادي بحبك يا مصر بحب...</td>\n",
              "      <td>NOT_OFF</td>\n",
              "      <td>NOT_HS</td>\n",
              "    </tr>\n",
              "    <tr>\n",
              "      <th>3</th>\n",
              "      <td>RT @USER: يا رب يا قوي يا معين مدّني بالقوة و ...</td>\n",
              "      <td>NOT_OFF</td>\n",
              "      <td>NOT_HS</td>\n",
              "    </tr>\n",
              "    <tr>\n",
              "      <th>4</th>\n",
              "      <td>RT @USER: رحمك الله يا صدام يا بطل ومقدام. URL</td>\n",
              "      <td>NOT_OFF</td>\n",
              "      <td>NOT_HS</td>\n",
              "    </tr>\n",
              "    <tr>\n",
              "      <th>...</th>\n",
              "      <td>...</td>\n",
              "      <td>...</td>\n",
              "      <td>...</td>\n",
              "    </tr>\n",
              "    <tr>\n",
              "      <th>995</th>\n",
              "      <td>RT @USER: انتو بتوزعوا زيت وسكر فعلا يا عباس؟&lt;...</td>\n",
              "      <td>NOT_OFF</td>\n",
              "      <td>NOT_HS</td>\n",
              "    </tr>\n",
              "    <tr>\n",
              "      <th>996</th>\n",
              "      <td>RT @USER: كدا يا عمر متزعلهاش يا حبيبي 😂 URL</td>\n",
              "      <td>NOT_OFF</td>\n",
              "      <td>NOT_HS</td>\n",
              "    </tr>\n",
              "    <tr>\n",
              "      <th>997</th>\n",
              "      <td>هدا سكن اطفال امارتين من شارقة طالبين فزعتكم ي...</td>\n",
              "      <td>NOT_OFF</td>\n",
              "      <td>NOT_HS</td>\n",
              "    </tr>\n",
              "    <tr>\n",
              "      <th>998</th>\n",
              "      <td>RT @USER: ومدني بمدد من قوتك أواجه به ضعفي.. و...</td>\n",
              "      <td>NOT_OFF</td>\n",
              "      <td>NOT_HS</td>\n",
              "    </tr>\n",
              "    <tr>\n",
              "      <th>999</th>\n",
              "      <td>يا سلااااام يا يو خالد انت والطرب الاصيل URL</td>\n",
              "      <td>NOT_OFF</td>\n",
              "      <td>NOT_HS</td>\n",
              "    </tr>\n",
              "  </tbody>\n",
              "</table>\n",
              "<p>1000 rows × 3 columns</p>\n",
              "</div>"
            ],
            "text/plain": [
              "                                                 Tweet Offensive    Hate\n",
              "0    فى حاجات مينفعش نلفت نظركوا ليها زى الاصول كده...   NOT_OFF  NOT_HS\n",
              "1    RT @USER: وعيون تنادينا تحايل فينا و نقول يا ع...   NOT_OFF  NOT_HS\n",
              "2    يا بلادي يا أم البلاد يا بلادي بحبك يا مصر بحب...   NOT_OFF  NOT_HS\n",
              "3    RT @USER: يا رب يا قوي يا معين مدّني بالقوة و ...   NOT_OFF  NOT_HS\n",
              "4       RT @USER: رحمك الله يا صدام يا بطل ومقدام. URL   NOT_OFF  NOT_HS\n",
              "..                                                 ...       ...     ...\n",
              "995  RT @USER: انتو بتوزعوا زيت وسكر فعلا يا عباس؟<...   NOT_OFF  NOT_HS\n",
              "996       RT @USER: كدا يا عمر متزعلهاش يا حبيبي 😂 URL   NOT_OFF  NOT_HS\n",
              "997  هدا سكن اطفال امارتين من شارقة طالبين فزعتكم ي...   NOT_OFF  NOT_HS\n",
              "998  RT @USER: ومدني بمدد من قوتك أواجه به ضعفي.. و...   NOT_OFF  NOT_HS\n",
              "999       يا سلااااام يا يو خالد انت والطرب الاصيل URL   NOT_OFF  NOT_HS\n",
              "\n",
              "[1000 rows x 3 columns]"
            ]
          },
          "metadata": {
            "tags": []
          },
          "execution_count": 6
        }
      ]
    },
    {
      "cell_type": "code",
      "metadata": {
        "colab": {
          "base_uri": "https://localhost:8080/"
        },
        "id": "s9yxPtQjKsPa",
        "outputId": "f2b28e64-fd65-48de-93f6-11a6f0701e98"
      },
      "source": [
        "print(\"Train data shape: {} \\nDev data shape: {}\".format(train_data.shape,dev_data.shape))\n"
      ],
      "execution_count": null,
      "outputs": [
        {
          "output_type": "stream",
          "text": [
            "Train data shape: (7000, 3) \n",
            "Dev data shape: (1000, 3)\n"
          ],
          "name": "stdout"
        }
      ]
    },
    {
      "cell_type": "code",
      "metadata": {
        "colab": {
          "base_uri": "https://localhost:8080/",
          "height": 424
        },
        "id": "5FhXLXPD2NOu",
        "outputId": "2b0635ed-6682-46bf-fbc9-8590c0e821cd"
      },
      "source": [
        "test_data = pd.read_csv('/content/drive/My Drive/Test_data.csv')\r\n",
        "test_data"
      ],
      "execution_count": null,
      "outputs": [
        {
          "output_type": "execute_result",
          "data": {
            "text/html": [
              "<div>\n",
              "<style scoped>\n",
              "    .dataframe tbody tr th:only-of-type {\n",
              "        vertical-align: middle;\n",
              "    }\n",
              "\n",
              "    .dataframe tbody tr th {\n",
              "        vertical-align: top;\n",
              "    }\n",
              "\n",
              "    .dataframe thead th {\n",
              "        text-align: right;\n",
              "    }\n",
              "</style>\n",
              "<table border=\"1\" class=\"dataframe\">\n",
              "  <thead>\n",
              "    <tr style=\"text-align: right;\">\n",
              "      <th></th>\n",
              "      <th>Tweet</th>\n",
              "      <th>Offensive</th>\n",
              "      <th>Hate</th>\n",
              "    </tr>\n",
              "  </thead>\n",
              "  <tbody>\n",
              "    <tr>\n",
              "      <th>0</th>\n",
              "      <td>@USER اما انت تقعد طول عمرك لا مبدا ولا راي ثا...</td>\n",
              "      <td>OFF</td>\n",
              "      <td>HS</td>\n",
              "    </tr>\n",
              "    <tr>\n",
              "      <th>1</th>\n",
              "      <td>@USER @USER بتخاف نسوانك يزعلوا ولا ايه 😂 اه ي...</td>\n",
              "      <td>OFF</td>\n",
              "      <td>NOT_HS</td>\n",
              "    </tr>\n",
              "    <tr>\n",
              "      <th>2</th>\n",
              "      <td>RT @USER: يا عـسانـى نـبـقى يا عـمري حـبايـب و...</td>\n",
              "      <td>NOT_OFF</td>\n",
              "      <td>NOT_HS</td>\n",
              "    </tr>\n",
              "    <tr>\n",
              "      <th>3</th>\n",
              "      <td>RT @USER: باقي البيان وينو ما شفنه يا برهان &lt;L...</td>\n",
              "      <td>OFF</td>\n",
              "      <td>NOT_HS</td>\n",
              "    </tr>\n",
              "    <tr>\n",
              "      <th>4</th>\n",
              "      <td>@USER @USER اللهم انت الشافي المعافي اشفيه وجم...</td>\n",
              "      <td>NOT_OFF</td>\n",
              "      <td>NOT_HS</td>\n",
              "    </tr>\n",
              "    <tr>\n",
              "      <th>...</th>\n",
              "      <td>...</td>\n",
              "      <td>...</td>\n",
              "      <td>...</td>\n",
              "    </tr>\n",
              "    <tr>\n",
              "      <th>1995</th>\n",
              "      <td>RT @USER: الله لايوفقك يا مهند عسيري يا معوق و...</td>\n",
              "      <td>OFF</td>\n",
              "      <td>NOT_HS</td>\n",
              "    </tr>\n",
              "    <tr>\n",
              "      <th>1996</th>\n",
              "      <td>RT @USER: @USER حبيبي يا يوسف وانت طيب يا صاحب...</td>\n",
              "      <td>NOT_OFF</td>\n",
              "      <td>NOT_HS</td>\n",
              "    </tr>\n",
              "    <tr>\n",
              "      <th>1997</th>\n",
              "      <td>RT @USER: يا بو محمد عشت يا طيب الفال&lt;LF&gt;عاشت ...</td>\n",
              "      <td>NOT_OFF</td>\n",
              "      <td>NOT_HS</td>\n",
              "    </tr>\n",
              "    <tr>\n",
              "      <th>1998</th>\n",
              "      <td>أنا مستني الحلقة بقالي سنتين يا بضان يا ابن ال...</td>\n",
              "      <td>OFF</td>\n",
              "      <td>NOT_HS</td>\n",
              "    </tr>\n",
              "    <tr>\n",
              "      <th>1999</th>\n",
              "      <td>انتظروا العقوبة الالهية يا من تدعمون الارهاب ي...</td>\n",
              "      <td>OFF</td>\n",
              "      <td>NOT_HS</td>\n",
              "    </tr>\n",
              "  </tbody>\n",
              "</table>\n",
              "<p>2000 rows × 3 columns</p>\n",
              "</div>"
            ],
            "text/plain": [
              "                                                  Tweet Offensive    Hate\n",
              "0     @USER اما انت تقعد طول عمرك لا مبدا ولا راي ثا...       OFF      HS\n",
              "1     @USER @USER بتخاف نسوانك يزعلوا ولا ايه 😂 اه ي...       OFF  NOT_HS\n",
              "2     RT @USER: يا عـسانـى نـبـقى يا عـمري حـبايـب و...   NOT_OFF  NOT_HS\n",
              "3     RT @USER: باقي البيان وينو ما شفنه يا برهان <L...       OFF  NOT_HS\n",
              "4     @USER @USER اللهم انت الشافي المعافي اشفيه وجم...   NOT_OFF  NOT_HS\n",
              "...                                                 ...       ...     ...\n",
              "1995  RT @USER: الله لايوفقك يا مهند عسيري يا معوق و...       OFF  NOT_HS\n",
              "1996  RT @USER: @USER حبيبي يا يوسف وانت طيب يا صاحب...   NOT_OFF  NOT_HS\n",
              "1997  RT @USER: يا بو محمد عشت يا طيب الفال<LF>عاشت ...   NOT_OFF  NOT_HS\n",
              "1998  أنا مستني الحلقة بقالي سنتين يا بضان يا ابن ال...       OFF  NOT_HS\n",
              "1999  انتظروا العقوبة الالهية يا من تدعمون الارهاب ي...       OFF  NOT_HS\n",
              "\n",
              "[2000 rows x 3 columns]"
            ]
          },
          "metadata": {
            "tags": []
          },
          "execution_count": 8
        }
      ]
    },
    {
      "cell_type": "code",
      "metadata": {
        "id": "Ae5n6EhUcEDD"
      },
      "source": [
        "def get_embedding_matrix(word_index, embedding_index, vocab_dim):\n",
        "    print('Building embedding matrix...')\n",
        "    embedding_matrix = np.zeros((len(word_index) + 1, vocab_dim))\n",
        "    for word, i in word_index.items():\n",
        "        try:\n",
        "            embedding_matrix[i] = embedding_index.get_vector(word)\n",
        "        except:\n",
        "            pass\n",
        "    print('Embedding matrix built.') \n",
        "    #print(\"Word index\", word_index.items())\n",
        "    #print(embedding_matrix) \n",
        "    return embedding_matrix\n",
        "\n",
        "\n",
        "def get_init_parameters(path, ext=None):\n",
        "    if ext == 'vec':\n",
        "        word_model = KeyedVectors.load_word2vec_format(path).wv\n",
        "    else:\n",
        "        word_model = KeyedVectors.load(path).wv\n",
        "    n_words = len(word_model.vocab)\n",
        "    vocab_dim = word_model[word_model.index2word[0]].shape[0]\n",
        "    index_dict = dict()\n",
        "    for i in range(n_words):\n",
        "        index_dict[word_model.index2word[i]] = i+1\n",
        "    print('Number of words in the word embedding',n_words)\n",
        "    #print('word_model', word_model)\n",
        "    #print(\"index_dict\",index_dict)\n",
        "    return word_model, index_dict, n_words, vocab_dim\n",
        "\n",
        "def get_max_length(text_data, return_line=False):\n",
        "    max_length = 0\n",
        "    long_line = \"\"\n",
        "    for line in text_data:\n",
        "        new = len(line.split())\n",
        "        if new > max_length:\n",
        "            max_length = new\n",
        "            long_line = line\n",
        "    if return_line:\n",
        "        return long_line, max_length\n",
        "    else:\n",
        "        return max_length\n",
        "    print(\"max\",long_line,max_length)\n",
        "\n",
        "def load_datasets(data_paths, header=True):\n",
        "    x = []\n",
        "    y = []\n",
        "    for data_path in data_paths:\n",
        "        with open(data_path, 'r') as f:\n",
        "            for line in f:\n",
        "                if header:\n",
        "                    header = False\n",
        "                else:\n",
        "                    temp = line.split(',')\n",
        "                    x.append(temp[0])\n",
        "                    y.append(temp[2].replace('\\n', ''))\n",
        "    max_length = get_max_length(x)\n",
        "    print('Max length:', max_length)\n",
        "    return x,y, max_length\n",
        "\n",
        "def get_train_test(train_raw_text, dev_raw_text, test_raw_text, n_words, max_length):\n",
        "    tokenizer = text.Tokenizer(num_words=n_words)\n",
        "    tokenizer.fit_on_texts(list(train_raw_text))\n",
        "    word_index = tokenizer.word_index\n",
        "   \n",
        "    train_tokenized = tokenizer.texts_to_sequences(train_raw_text)\n",
        "    dev_tokenized = tokenizer.texts_to_sequences(dev_raw_text)\n",
        "    test_tokenized = tokenizer.texts_to_sequences(test_raw_text)\n",
        "\n",
        "    return sequence.pad_sequences(train_tokenized, maxlen=max_length, padding='post', truncating='post'),\\\n",
        "           sequence.pad_sequences(dev_tokenized, maxlen=max_length, padding='post', truncating='post'),\\\n",
        "           sequence.pad_sequences(test_tokenized, maxlen=max_length, padding='post', truncating='post'),\\\n",
        "           word_index\n",
        "\n",
        "def class_str_2_ind(x_train,x_dev, x_test, y_train,y_dev, y_test, classes, n_words, max_length):\n",
        "    print('Converting data to trainable form...')\n",
        "    y_encoder = preprocessing.LabelEncoder()\n",
        "    y_encoder.fit(classes)\n",
        "    y_train = y_encoder.transform(y_train)\n",
        "    y_dev = y_encoder.transform(y_dev)\n",
        "    y_test = y_encoder.transform(y_test)\n",
        "\n",
        "    #print(y_train)\n",
        "    #print(y_test)\n",
        "    train_y_cat = np_utils.to_categorical(y_train, len(classes))\n",
        "    x_vec_train, x_vec_dev, x_vec_test, word_index = get_train_test(x_train,x_dev, x_test, n_words, max_length)\n",
        "    print('Number of training examples: ' + str(len(x_vec_train)))\n",
        "    print('Number of dev examples: ' + str(len(x_vec_test)))\n",
        "    return x_vec_train,x_vec_dev, x_vec_test, y_train, y_dev, y_test, train_y_cat, word_index\n",
        "\n"
      ],
      "execution_count": null,
      "outputs": []
    },
    {
      "cell_type": "code",
      "metadata": {
        "colab": {
          "base_uri": "https://localhost:8080/"
        },
        "id": "lT0r5MyUbtGC",
        "outputId": "f196e299-0cbb-4615-a92e-ca418369d661"
      },
      "source": [
        "WORD_MODEL, _, MAX_FEATURES, EMBED_SIZE = get_init_parameters(embedding_path) "
      ],
      "execution_count": null,
      "outputs": [
        {
          "output_type": "stream",
          "text": [
            "Number of words in the word embedding 331679\n"
          ],
          "name": "stdout"
        }
      ]
    },
    {
      "cell_type": "code",
      "metadata": {
        "colab": {
          "base_uri": "https://localhost:8080/"
        },
        "id": "cjwJ3aN3U1Mv",
        "outputId": "55d52a6e-7ee7-466f-df01-148ef863af23"
      },
      "source": [
        "# load train data\n",
        "train_data_path=[\"/content/drive/My Drive/synonyms_remove.csv\"]\n",
        "x_train, y_train, MAX_TEXT_LENGTH = load_datasets(train_data_path)\n",
        "CLASSES_LIST = np.unique(y_train)\n",
        "print('Label categories: ' + str(CLASSES_LIST))\n",
        "#0= HS, 1= NOT_HS"
      ],
      "execution_count": null,
      "outputs": [
        {
          "output_type": "stream",
          "text": [
            "Max length: 84\n",
            "Label categories: ['HS' 'NOT_HS']\n"
          ],
          "name": "stdout"
        }
      ]
    },
    {
      "cell_type": "code",
      "metadata": {
        "colab": {
          "base_uri": "https://localhost:8080/"
        },
        "id": "VGShWPV6UwCE",
        "outputId": "4246cf19-95d8-4cef-dc86-d8bf59ba7d98"
      },
      "source": [
        "# load dev data\n",
        "dev_data_path=[\"/content/drive/My Drive/dev_data_cleaned.csv\"]\n",
        "x_dev, y_dev, MAX_TEXT_LENGTH = load_datasets(dev_data_path)\n",
        "CLASSES_LIST = np.unique(y_dev)\n",
        "print('Label categories: ' + str(CLASSES_LIST))\n",
        "#0= HS, 1= NOT_HS"
      ],
      "execution_count": null,
      "outputs": [
        {
          "output_type": "stream",
          "text": [
            "Max length: 72\n",
            "Label categories: ['HS' 'NOT_HS']\n"
          ],
          "name": "stdout"
        }
      ]
    },
    {
      "cell_type": "code",
      "metadata": {
        "colab": {
          "base_uri": "https://localhost:8080/"
        },
        "id": "orZWlV-72bfL",
        "outputId": "c1ae97d5-7b70-45ed-a895-d9476ea2e3a0"
      },
      "source": [
        "# load test data\r\n",
        "test_data_path=[\"/content/drive/My Drive/test_data_cleaned.csv\"]\r\n",
        "x_test, y_test, MAX_TEXT_LENGTH = load_datasets(test_data_path)\r\n",
        "CLASSES_LIST = np.unique(y_test)\r\n",
        "print('Label categories: ' + str(CLASSES_LIST))\r\n",
        "#0= HS, 1= NOT_HS"
      ],
      "execution_count": null,
      "outputs": [
        {
          "output_type": "stream",
          "text": [
            "Max length: 72\n",
            "Label categories: ['HS' 'NOT_HS']\n"
          ],
          "name": "stdout"
        }
      ]
    },
    {
      "cell_type": "code",
      "metadata": {
        "id": "XcpaFQRJV8YL"
      },
      "source": [
        "MAX_TEXT_LENGTH=84"
      ],
      "execution_count": null,
      "outputs": []
    },
    {
      "cell_type": "code",
      "metadata": {
        "colab": {
          "base_uri": "https://localhost:8080/"
        },
        "id": "plOnSpgUb18i",
        "outputId": "37c2ce89-b89e-480a-b3a7-a852c725b0d4"
      },
      "source": [
        "x_train, x_dev,x_test, y_train, y_dev, y_test, train_y_cat, word_index = class_str_2_ind(x_train, x_dev,x_test, \n",
        "                                                                            y_train, y_dev,y_test,\n",
        "                                                                            CLASSES_LIST, MAX_FEATURES,\n",
        "                                                                            MAX_TEXT_LENGTH)\n",
        "dev_cat_y = np_utils.to_categorical(y_dev, len(CLASSES_LIST))\n",
        "test_cat_y = np_utils.to_categorical(y_test, len(CLASSES_LIST))"
      ],
      "execution_count": null,
      "outputs": [
        {
          "output_type": "stream",
          "text": [
            "Converting data to trainable form...\n",
            "Number of training examples: 9002\n",
            "Number of dev examples: 2000\n"
          ],
          "name": "stdout"
        }
      ]
    },
    {
      "cell_type": "code",
      "metadata": {
        "colab": {
          "base_uri": "https://localhost:8080/"
        },
        "id": "VQiq-BKShbLE",
        "outputId": "a5874292-2471-4f1a-a077-b59eace18e5a"
      },
      "source": [
        "print(\"Tokens number: \"+str(len(word_index)))"
      ],
      "execution_count": null,
      "outputs": [
        {
          "output_type": "stream",
          "text": [
            "Tokens number: 30591\n"
          ],
          "name": "stdout"
        }
      ]
    },
    {
      "cell_type": "code",
      "metadata": {
        "colab": {
          "base_uri": "https://localhost:8080/"
        },
        "id": "WjJd-CWUiNlQ",
        "outputId": "0501aa1d-bbc9-4733-8658-d21fc0173da0"
      },
      "source": [
        "# Sequence length\n",
        "print(\"Original sequence length: \"+str(MAX_TEXT_LENGTH))\n"
      ],
      "execution_count": null,
      "outputs": [
        {
          "output_type": "stream",
          "text": [
            "Original sequence length: 84\n"
          ],
          "name": "stdout"
        }
      ]
    },
    {
      "cell_type": "markdown",
      "metadata": {
        "id": "ekyQNHzEdUr0"
      },
      "source": [
        "#### Note: the prior work is the same for all of the neural learning models."
      ]
    },
    {
      "cell_type": "code",
      "metadata": {
        "id": "QTKYJoTBfOtC"
      },
      "source": [
        "from tensorflow.keras import initializers\r\n",
        "initializer = initializers.RandomNormal(mean=0., stddev=.05)"
      ],
      "execution_count": null,
      "outputs": []
    },
    {
      "cell_type": "code",
      "metadata": {
        "id": "T89nzsCdQX3M"
      },
      "source": [
        "import tensorflow as tf\r\n",
        "early_stopping = tf.keras.callbacks.EarlyStopping(monitor='val_loss', patience=3)"
      ],
      "execution_count": null,
      "outputs": []
    },
    {
      "cell_type": "markdown",
      "metadata": {
        "id": "IXB7MDh9lLcM"
      },
      "source": [
        "#  CNN+RNN model building:"
      ]
    },
    {
      "cell_type": "code",
      "metadata": {
        "id": "TRIAZtDUidul"
      },
      "source": [
        "def get_model(embedding_weights, word_index, vocab_dim, max_length,layer, dropout, optimizer, print_summary=True):\n",
        "    \"\"\"\n",
        "    Create Neural Network With an Embedding layer\n",
        "    \"\"\"\n",
        "    inp = Input(shape=(max_length,))\n",
        "    model = Embedding(input_dim=len(word_index)+1,\n",
        "                      output_dim=vocab_dim,\n",
        "                      trainable=False,\n",
        "                      weights=[embedding_weights])(inp)\n",
        "\n",
        "    model = Conv1D(filters=25, kernel_size=5, padding='same', activation='relu', input_shape=(None, 84, 300))(model)\n",
        "    model = MaxPooling1D(pool_size=2)(model)\n",
        "    model= TimeDistributed(Dense(32))(model)   \n",
        "                       \n",
        "    model = layer(model)\n",
        "    model = Dropout(dropout)(model)  \n",
        "         \n",
        "    model = Flatten()(model)\n",
        "    model = Dense(2, activation='sigmoid')(model)\n",
        "    model = Model(inputs=inp, outputs=model)\n",
        "    \n",
        "    model.compile(loss='categorical_crossentropy', optimizer=optimizer, metrics=['accuracy'])\n",
        "    if print_summary:\n",
        "        model.summary()\n",
        "    return model\n",
        "\n",
        "\n",
        "def get_main_model(word_index, WORD_MODEL, EMBED_SIZE, MAX_TEXT_LENGTH, \n",
        "                   layer, dropout,optimizer):\n",
        "   \n",
        "    tmp = get_embedding_matrix(word_index, WORD_MODEL, EMBED_SIZE)\n",
        "    model = get_model(tmp, word_index, EMBED_SIZE, MAX_TEXT_LENGTH, \n",
        "                      layer, dropout, optimizer= optimizer ,print_summary=True)\n",
        "    return model\n",
        "\n",
        "\n",
        "class TestCallback(Callback):\n",
        "    def __init__(self, test_data):\n",
        "        self.test_data = test_data\n",
        "\n",
        "    def on_epoch_end(self, epoch, logs={}):\n",
        "        x, y = self.test_data\n",
        "        loss, acc = self.model.evaluate(x, y, verbose=0)\n",
        "        print('\\nTesting loss: {}, acc: {}\\n'.format(loss, acc))\n",
        "\n",
        "def train_fit_predict(model, x_train, x_dev, y_train, y_dev,class_weight, batch_size, epochs, TestCallback=TestCallback):\n",
        "   \n",
        "    history = model.fit(x_train, y_train,\n",
        "                        batch_size=batch_size,\n",
        "                        epochs=epochs, verbose=1,\n",
        "                        validation_data=(x_dev, y_dev),\n",
        "                        class_weight=class_weight,\n",
        "                        callbacks=[TestCallback((x_dev, y_dev)),early_stopping])\n",
        "    return history, model"
      ],
      "execution_count": null,
      "outputs": []
    },
    {
      "cell_type": "markdown",
      "metadata": {
        "id": "FuLxVUtEX2WD"
      },
      "source": [
        "# Combined CNN-LSTM"
      ]
    },
    {
      "cell_type": "code",
      "metadata": {
        "colab": {
          "base_uri": "https://localhost:8080/"
        },
        "id": "YKpEhF4ljGqR",
        "outputId": "3f316534-406e-442b-e924-314f824db0d9"
      },
      "source": [
        "model = get_main_model(word_index, WORD_MODEL, EMBED_SIZE, MAX_TEXT_LENGTH, \n",
        "                       layer= LSTM(units=16, return_sequences=True, return_state=False), dropout=0.5, \n",
        "                       optimizer= optimizers.Adam(0.001))"
      ],
      "execution_count": null,
      "outputs": [
        {
          "output_type": "stream",
          "text": [
            "Building embedding matrix...\n",
            "Embedding matrix built.\n",
            "Model: \"model_40\"\n",
            "_________________________________________________________________\n",
            "Layer (type)                 Output Shape              Param #   \n",
            "=================================================================\n",
            "input_41 (InputLayer)        [(None, 84)]              0         \n",
            "_________________________________________________________________\n",
            "embedding_40 (Embedding)     (None, 84, 300)           9177600   \n",
            "_________________________________________________________________\n",
            "conv1d_40 (Conv1D)           (None, 84, 25)            37525     \n",
            "_________________________________________________________________\n",
            "max_pooling1d_40 (MaxPooling (None, 42, 25)            0         \n",
            "_________________________________________________________________\n",
            "time_distributed_40 (TimeDis (None, 42, 32)            832       \n",
            "_________________________________________________________________\n",
            "lstm_27 (LSTM)               (None, 42, 16)            3136      \n",
            "_________________________________________________________________\n",
            "dropout_40 (Dropout)         (None, 42, 16)            0         \n",
            "_________________________________________________________________\n",
            "flatten_40 (Flatten)         (None, 672)               0         \n",
            "_________________________________________________________________\n",
            "dense_81 (Dense)             (None, 2)                 1346      \n",
            "=================================================================\n",
            "Total params: 9,220,439\n",
            "Trainable params: 42,839\n",
            "Non-trainable params: 9,177,600\n",
            "_________________________________________________________________\n"
          ],
          "name": "stdout"
        }
      ]
    },
    {
      "cell_type": "code",
      "metadata": {
        "colab": {
          "base_uri": "https://localhost:8080/"
        },
        "id": "nIdYkbZzjJpe",
        "outputId": "1d662757-7a04-48ba-9153-b77882023e79"
      },
      "source": [
        "time_start = time()\n",
        "history, model = train_fit_predict(model,\n",
        "                               x_train[:, :MAX_TEXT_LENGTH],\n",
        "                               x_dev[:, :MAX_TEXT_LENGTH],\n",
        "                               train_y_cat, dev_cat_y,class_weight= None,\n",
        "                               batch_size=500, epochs=15)\n",
        "time_start = time() - time_start\n",
        "\n",
        "print(\"Took : \"+str(np.round(time_start, 2))+\" (s)\") "
      ],
      "execution_count": null,
      "outputs": [
        {
          "output_type": "stream",
          "text": [
            "Epoch 1/15\n",
            "19/19 [==============================] - 11s 476ms/step - loss: 0.6094 - accuracy: 0.6637 - val_loss: 0.2042 - val_accuracy: 0.9530\n",
            "\n",
            "Testing loss: 0.20417997241020203, acc: 0.953000009059906\n",
            "\n",
            "Epoch 2/15\n",
            "19/19 [==============================] - 8s 442ms/step - loss: 0.3537 - accuracy: 0.8287 - val_loss: 0.2146 - val_accuracy: 0.9120\n",
            "\n",
            "Testing loss: 0.21456904709339142, acc: 0.9120000004768372\n",
            "\n",
            "Epoch 3/15\n",
            "19/19 [==============================] - 9s 455ms/step - loss: 0.3024 - accuracy: 0.8656 - val_loss: 0.1745 - val_accuracy: 0.9330\n",
            "\n",
            "Testing loss: 0.17450402677059174, acc: 0.9330000281333923\n",
            "\n",
            "Epoch 4/15\n",
            "19/19 [==============================] - 9s 458ms/step - loss: 0.2594 - accuracy: 0.8798 - val_loss: 0.1500 - val_accuracy: 0.9400\n",
            "\n",
            "Testing loss: 0.149994894862175, acc: 0.9399999976158142\n",
            "\n",
            "Epoch 5/15\n",
            "19/19 [==============================] - 9s 453ms/step - loss: 0.2329 - accuracy: 0.8976 - val_loss: 0.1679 - val_accuracy: 0.9330\n",
            "\n",
            "Testing loss: 0.16787774860858917, acc: 0.9330000281333923\n",
            "\n",
            "Epoch 6/15\n",
            "19/19 [==============================] - 9s 458ms/step - loss: 0.2133 - accuracy: 0.9100 - val_loss: 0.1539 - val_accuracy: 0.9420\n",
            "\n",
            "Testing loss: 0.15390297770500183, acc: 0.9419999718666077\n",
            "\n",
            "Epoch 7/15\n",
            "19/19 [==============================] - 9s 456ms/step - loss: 0.1820 - accuracy: 0.9227 - val_loss: 0.1547 - val_accuracy: 0.9430\n",
            "\n",
            "Testing loss: 0.1547490358352661, acc: 0.9430000185966492\n",
            "\n",
            "Took : 66.64 (s)\n"
          ],
          "name": "stdout"
        }
      ]
    },
    {
      "cell_type": "code",
      "metadata": {
        "colab": {
          "base_uri": "https://localhost:8080/"
        },
        "id": "Yt-l_Q9Aj44w",
        "outputId": "8695d868-0c88-4451-acab-cf20bf520c86"
      },
      "source": [
        "history.history.keys()"
      ],
      "execution_count": null,
      "outputs": [
        {
          "output_type": "execute_result",
          "data": {
            "text/plain": [
              "dict_keys(['loss', 'accuracy', 'val_loss', 'val_accuracy'])"
            ]
          },
          "metadata": {
            "tags": []
          },
          "execution_count": 350
        }
      ]
    },
    {
      "cell_type": "code",
      "metadata": {
        "colab": {
          "base_uri": "https://localhost:8080/"
        },
        "id": "-xsxi8A1j_Fq",
        "outputId": "977d50ca-918b-40bf-96d3-87da4c3cbe1b"
      },
      "source": [
        "model.evaluate(x_dev[:, :MAX_TEXT_LENGTH], dev_cat_y, batch_size=1000)\n"
      ],
      "execution_count": null,
      "outputs": [
        {
          "output_type": "stream",
          "text": [
            "1/1 [==============================] - 0s 305ms/step - loss: 0.1547 - accuracy: 0.9430\n"
          ],
          "name": "stdout"
        },
        {
          "output_type": "execute_result",
          "data": {
            "text/plain": [
              "[0.15474902093410492, 0.9430000185966492]"
            ]
          },
          "metadata": {
            "tags": []
          },
          "execution_count": 351
        }
      ]
    },
    {
      "cell_type": "code",
      "metadata": {
        "colab": {
          "base_uri": "https://localhost:8080/"
        },
        "id": "X1e78k51kZ1S",
        "outputId": "29832fdc-1c48-4964-f7b2-5d9644819f8b"
      },
      "source": [
        "y_pred = np.argmax(model.predict(x_dev[:, :MAX_TEXT_LENGTH]), axis=1)\n",
        "\n",
        "print(creport(np.argmax(dev_cat_y, axis=1), y_pred,target_names=['HS', 'NOT_HS'],digits=3))"
      ],
      "execution_count": null,
      "outputs": [
        {
          "output_type": "stream",
          "text": [
            "              precision    recall  f1-score   support\n",
            "\n",
            "          HS      0.403     0.614     0.486        44\n",
            "      NOT_HS      0.982     0.958     0.970       956\n",
            "\n",
            "    accuracy                          0.943      1000\n",
            "   macro avg      0.692     0.786     0.728      1000\n",
            "weighted avg      0.956     0.943     0.949      1000\n",
            "\n"
          ],
          "name": "stdout"
        }
      ]
    },
    {
      "cell_type": "code",
      "metadata": {
        "colab": {
          "base_uri": "https://localhost:8080/"
        },
        "id": "E5tz-9j221pJ",
        "outputId": "79b3c28f-9a80-4d4c-dbab-bcd18e21da65"
      },
      "source": [
        "model.evaluate(x_test[:, :MAX_TEXT_LENGTH], test_cat_y, batch_size=1000)"
      ],
      "execution_count": null,
      "outputs": [
        {
          "output_type": "stream",
          "text": [
            "2/2 [==============================] - 1s 287ms/step - loss: 0.1531 - accuracy: 0.9355\n"
          ],
          "name": "stdout"
        },
        {
          "output_type": "execute_result",
          "data": {
            "text/plain": [
              "[0.15311099588871002, 0.9355000257492065]"
            ]
          },
          "metadata": {
            "tags": []
          },
          "execution_count": 353
        }
      ]
    },
    {
      "cell_type": "code",
      "metadata": {
        "id": "FeyhtVCX2105",
        "colab": {
          "base_uri": "https://localhost:8080/"
        },
        "outputId": "fd319ded-c3fe-4930-9ab2-5ad246b7cbf7"
      },
      "source": [
        "y_pred = np.argmax(model.predict(x_test[:, :MAX_TEXT_LENGTH]), axis=1)\r\n",
        "\r\n",
        "print(creport(np.argmax(test_cat_y, axis=1), y_pred,target_names=['HS', 'NOT_HS'],digits=3))"
      ],
      "execution_count": null,
      "outputs": [
        {
          "output_type": "stream",
          "text": [
            "              precision    recall  f1-score   support\n",
            "\n",
            "          HS      0.403     0.574     0.473       101\n",
            "      NOT_HS      0.977     0.955     0.966      1899\n",
            "\n",
            "    accuracy                          0.935      2000\n",
            "   macro avg      0.690     0.764     0.720      2000\n",
            "weighted avg      0.948     0.935     0.941      2000\n",
            "\n"
          ],
          "name": "stdout"
        }
      ]
    },
    {
      "cell_type": "code",
      "metadata": {
        "id": "kZp0EW06kwhy",
        "colab": {
          "base_uri": "https://localhost:8080/",
          "height": 856
        },
        "outputId": "ba0b77bd-67dd-43f3-c1d9-a35e38273a2b"
      },
      "source": [
        "from keras.utils import plot_model\n",
        "plot_model(model, to_file='CNN_LSTM_model.png', show_shapes=False, show_layer_names=False)"
      ],
      "execution_count": null,
      "outputs": [
        {
          "output_type": "execute_result",
          "data": {
            "image/png": "[encoded data removed]",
            "text/plain": [
              "<IPython.core.display.Image object>"
            ]
          },
          "metadata": {
            "tags": []
          },
          "execution_count": 355
        }
      ]
    },
    {
      "cell_type": "markdown",
      "metadata": {
        "id": "-GGpNk7MX9co"
      },
      "source": [
        "# Combined CNN-BLSTM"
      ]
    },
    {
      "cell_type": "code",
      "metadata": {
        "id": "PMeeL-Gqfy6p",
        "colab": {
          "base_uri": "https://localhost:8080/"
        },
        "outputId": "abc5f89a-e290-49f8-81c8-3ecd9bbdfbb2"
      },
      "source": [
        "model = get_main_model(word_index, WORD_MODEL, EMBED_SIZE, MAX_TEXT_LENGTH, \n",
        "                       layer= Bidirectional(LSTM(units=32, return_sequences=True, return_state=False)), \n",
        "                       dropout=0.2, optimizer= optimizers.Adam(0.001))"
      ],
      "execution_count": null,
      "outputs": [
        {
          "output_type": "stream",
          "text": [
            "Building embedding matrix...\n",
            "Embedding matrix built.\n",
            "Model: \"model_41\"\n",
            "_________________________________________________________________\n",
            "Layer (type)                 Output Shape              Param #   \n",
            "=================================================================\n",
            "input_42 (InputLayer)        [(None, 84)]              0         \n",
            "_________________________________________________________________\n",
            "embedding_41 (Embedding)     (None, 84, 300)           9177600   \n",
            "_________________________________________________________________\n",
            "conv1d_41 (Conv1D)           (None, 84, 25)            37525     \n",
            "_________________________________________________________________\n",
            "max_pooling1d_41 (MaxPooling (None, 42, 25)            0         \n",
            "_________________________________________________________________\n",
            "time_distributed_41 (TimeDis (None, 42, 32)            832       \n",
            "_________________________________________________________________\n",
            "bidirectional_12 (Bidirectio (None, 42, 64)            16640     \n",
            "_________________________________________________________________\n",
            "dropout_41 (Dropout)         (None, 42, 64)            0         \n",
            "_________________________________________________________________\n",
            "flatten_41 (Flatten)         (None, 2688)              0         \n",
            "_________________________________________________________________\n",
            "dense_83 (Dense)             (None, 2)                 5378      \n",
            "=================================================================\n",
            "Total params: 9,237,975\n",
            "Trainable params: 60,375\n",
            "Non-trainable params: 9,177,600\n",
            "_________________________________________________________________\n"
          ],
          "name": "stdout"
        }
      ]
    },
    {
      "cell_type": "code",
      "metadata": {
        "id": "mEQH3DdfYLdL",
        "colab": {
          "base_uri": "https://localhost:8080/"
        },
        "outputId": "bbdb4181-3a72-4488-97b1-bd9ea6439b38"
      },
      "source": [
        "time_start = time()\n",
        "history, model = train_fit_predict(model,\n",
        "                               x_train[:, :MAX_TEXT_LENGTH],\n",
        "                               x_dev[:, :MAX_TEXT_LENGTH],\n",
        "                               train_y_cat, dev_cat_y, class_weight=None,\n",
        "                               batch_size=500, epochs=15)\n",
        "time_start = time() - time_start\n",
        "\n",
        "print(\"Took : \"+str(np.round(time_start, 2))+\" (s)\") "
      ],
      "execution_count": null,
      "outputs": [
        {
          "output_type": "stream",
          "text": [
            "Epoch 1/15\n",
            "19/19 [==============================] - 14s 580ms/step - loss: 0.5747 - accuracy: 0.7130 - val_loss: 0.1499 - val_accuracy: 0.9420\n",
            "\n",
            "Testing loss: 0.14991311728954315, acc: 0.9419999718666077\n",
            "\n",
            "Epoch 2/15\n",
            "19/19 [==============================] - 10s 551ms/step - loss: 0.2959 - accuracy: 0.8613 - val_loss: 0.1653 - val_accuracy: 0.9310\n",
            "\n",
            "Testing loss: 0.16530701518058777, acc: 0.9309999942779541\n",
            "\n",
            "Epoch 3/15\n",
            "19/19 [==============================] - 11s 558ms/step - loss: 0.2363 - accuracy: 0.8905 - val_loss: 0.1568 - val_accuracy: 0.9420\n",
            "\n",
            "Testing loss: 0.156794473528862, acc: 0.9419999718666077\n",
            "\n",
            "Epoch 4/15\n",
            "19/19 [==============================] - 11s 588ms/step - loss: 0.1987 - accuracy: 0.9143 - val_loss: 0.1598 - val_accuracy: 0.9460\n",
            "\n",
            "Testing loss: 0.15975616872310638, acc: 0.9459999799728394\n",
            "\n",
            "Took : 49.69 (s)\n"
          ],
          "name": "stdout"
        }
      ]
    },
    {
      "cell_type": "code",
      "metadata": {
        "id": "XE3iQ2bTYQjC",
        "colab": {
          "base_uri": "https://localhost:8080/"
        },
        "outputId": "848c511d-9314-4e8e-fe2a-eaf78fc0bd63"
      },
      "source": [
        "model.evaluate(x_dev[:, :MAX_TEXT_LENGTH], dev_cat_y, batch_size=1000)"
      ],
      "execution_count": null,
      "outputs": [
        {
          "output_type": "stream",
          "text": [
            "1/1 [==============================] - 0s 342ms/step - loss: 0.1598 - accuracy: 0.9460\n"
          ],
          "name": "stdout"
        },
        {
          "output_type": "execute_result",
          "data": {
            "text/plain": [
              "[0.1597561538219452, 0.9459999799728394]"
            ]
          },
          "metadata": {
            "tags": []
          },
          "execution_count": 358
        }
      ]
    },
    {
      "cell_type": "code",
      "metadata": {
        "id": "AtSpZC1_YSiN",
        "colab": {
          "base_uri": "https://localhost:8080/"
        },
        "outputId": "e0f4ec11-4107-4205-f91b-3510dd81ce31"
      },
      "source": [
        "y_pred = np.argmax(model.predict(x_dev[:, :MAX_TEXT_LENGTH]), axis=1)\n",
        "\n",
        "print(creport(np.argmax(dev_cat_y, axis=1), y_pred,target_names=['HS', 'NOT_HS'],digits=4))"
      ],
      "execution_count": null,
      "outputs": [
        {
          "output_type": "stream",
          "text": [
            "              precision    recall  f1-score   support\n",
            "\n",
            "          HS     0.4194    0.5909    0.4906        44\n",
            "      NOT_HS     0.9808    0.9623    0.9715       956\n",
            "\n",
            "    accuracy                         0.9460      1000\n",
            "   macro avg     0.7001    0.7766    0.7310      1000\n",
            "weighted avg     0.9561    0.9460    0.9503      1000\n",
            "\n"
          ],
          "name": "stdout"
        }
      ]
    },
    {
      "cell_type": "code",
      "metadata": {
        "id": "2eCXm9gQ3q36",
        "colab": {
          "base_uri": "https://localhost:8080/"
        },
        "outputId": "8a45cd3c-2723-4408-f8ae-ad004ada8931"
      },
      "source": [
        "model.evaluate(x_test[:, :MAX_TEXT_LENGTH], test_cat_y, batch_size=1000)"
      ],
      "execution_count": null,
      "outputs": [
        {
          "output_type": "stream",
          "text": [
            "2/2 [==============================] - 1s 351ms/step - loss: 0.1495 - accuracy: 0.9370\n"
          ],
          "name": "stdout"
        },
        {
          "output_type": "execute_result",
          "data": {
            "text/plain": [
              "[0.14954981207847595, 0.9369999766349792]"
            ]
          },
          "metadata": {
            "tags": []
          },
          "execution_count": 360
        }
      ]
    },
    {
      "cell_type": "code",
      "metadata": {
        "colab": {
          "base_uri": "https://localhost:8080/"
        },
        "id": "9ElJNP-03rDe",
        "outputId": "7977b10e-40f8-49a4-9ec4-0d7e5c07924b"
      },
      "source": [
        "y_pred = np.argmax(model.predict(x_test[:, :MAX_TEXT_LENGTH]), axis=1)\r\n",
        "\r\n",
        "print(creport(np.argmax(test_cat_y, axis=1), y_pred,target_names=['HS', 'NOT_HS'],digits=4))"
      ],
      "execution_count": null,
      "outputs": [
        {
          "output_type": "stream",
          "text": [
            "              precision    recall  f1-score   support\n",
            "\n",
            "          HS     0.4060    0.5347    0.4615       101\n",
            "      NOT_HS     0.9748    0.9584    0.9665      1899\n",
            "\n",
            "    accuracy                         0.9370      2000\n",
            "   macro avg     0.6904    0.7465    0.7140      2000\n",
            "weighted avg     0.9461    0.9370    0.9410      2000\n",
            "\n"
          ],
          "name": "stdout"
        }
      ]
    },
    {
      "cell_type": "code",
      "metadata": {
        "colab": {
          "base_uri": "https://localhost:8080/",
          "height": 856
        },
        "id": "Js9z3MI-YWqR",
        "outputId": "cacc81b1-2660-4295-8e60-2fc1efcb4fcb"
      },
      "source": [
        "plot_model(model, to_file='CNN_BLSTM_model.png', show_shapes=False, show_layer_names=False)"
      ],
      "execution_count": null,
      "outputs": [
        {
          "output_type": "execute_result",
          "data": {
            "image/png": "[encoded data removed]",
            "text/plain": [
              "<IPython.core.display.Image object>"
            ]
          },
          "metadata": {
            "tags": []
          },
          "execution_count": 362
        }
      ]
    },
    {
      "cell_type": "markdown",
      "metadata": {
        "id": "7TRMCaE5X_j4"
      },
      "source": [
        "# Combined CNN-GRU"
      ]
    },
    {
      "cell_type": "code",
      "metadata": {
        "colab": {
          "base_uri": "https://localhost:8080/"
        },
        "id": "wK8_cmOEYioe",
        "outputId": "d16ee942-898f-4320-f2cb-3ac1d1bb93d0"
      },
      "source": [
        "model = get_main_model(word_index, WORD_MODEL, EMBED_SIZE, MAX_TEXT_LENGTH, \n",
        "                       layer= GRU(units=16, return_sequences=True, return_state=False), \n",
        "                       dropout=0.5,  optimizer= optimizers.Adam(0.001))"
      ],
      "execution_count": null,
      "outputs": [
        {
          "output_type": "stream",
          "text": [
            "Building embedding matrix...\n",
            "Embedding matrix built.\n",
            "Model: \"model_43\"\n",
            "_________________________________________________________________\n",
            "Layer (type)                 Output Shape              Param #   \n",
            "=================================================================\n",
            "input_44 (InputLayer)        [(None, 84)]              0         \n",
            "_________________________________________________________________\n",
            "embedding_43 (Embedding)     (None, 84, 300)           9177600   \n",
            "_________________________________________________________________\n",
            "conv1d_43 (Conv1D)           (None, 84, 25)            37525     \n",
            "_________________________________________________________________\n",
            "max_pooling1d_43 (MaxPooling (None, 42, 25)            0         \n",
            "_________________________________________________________________\n",
            "time_distributed_43 (TimeDis (None, 42, 32)            832       \n",
            "_________________________________________________________________\n",
            "gru_14 (GRU)                 (None, 42, 16)            2400      \n",
            "_________________________________________________________________\n",
            "dropout_43 (Dropout)         (None, 42, 16)            0         \n",
            "_________________________________________________________________\n",
            "flatten_43 (Flatten)         (None, 672)               0         \n",
            "_________________________________________________________________\n",
            "dense_87 (Dense)             (None, 2)                 1346      \n",
            "=================================================================\n",
            "Total params: 9,219,703\n",
            "Trainable params: 42,103\n",
            "Non-trainable params: 9,177,600\n",
            "_________________________________________________________________\n"
          ],
          "name": "stdout"
        }
      ]
    },
    {
      "cell_type": "code",
      "metadata": {
        "id": "9W2VKt10Yo4n",
        "colab": {
          "base_uri": "https://localhost:8080/"
        },
        "outputId": "0adcaba0-e56c-47fd-d339-debd097b5e35"
      },
      "source": [
        "time_start = time()\n",
        "history, model = train_fit_predict(model,\n",
        "                               x_train[:, :MAX_TEXT_LENGTH],\n",
        "                               x_dev[:, :MAX_TEXT_LENGTH],\n",
        "                               train_y_cat, dev_cat_y, class_weight=None,\n",
        "                               batch_size=500, epochs=15)\n",
        "time_start = time() - time_start\n",
        "\n",
        "print(\"Took : \"+str(np.round(time_start, 2))+\" (s)\") "
      ],
      "execution_count": null,
      "outputs": [
        {
          "output_type": "stream",
          "text": [
            "Epoch 1/15\n",
            "19/19 [==============================] - 10s 431ms/step - loss: 0.5558 - accuracy: 0.7382 - val_loss: 0.2047 - val_accuracy: 0.9550\n",
            "\n",
            "Testing loss: 0.2047022432088852, acc: 0.9549999833106995\n",
            "\n",
            "Epoch 2/15\n",
            "19/19 [==============================] - 9s 448ms/step - loss: 0.3457 - accuracy: 0.8335 - val_loss: 0.1471 - val_accuracy: 0.9410\n",
            "\n",
            "Testing loss: 0.14706790447235107, acc: 0.9409999847412109\n",
            "\n",
            "Epoch 3/15\n",
            "19/19 [==============================] - 8s 436ms/step - loss: 0.2707 - accuracy: 0.8770 - val_loss: 0.1652 - val_accuracy: 0.9320\n",
            "\n",
            "Testing loss: 0.16518990695476532, acc: 0.9319999814033508\n",
            "\n",
            "Epoch 4/15\n",
            "19/19 [==============================] - 8s 405ms/step - loss: 0.2293 - accuracy: 0.9012 - val_loss: 0.1481 - val_accuracy: 0.9430\n",
            "\n",
            "Testing loss: 0.14805945754051208, acc: 0.9430000185966492\n",
            "\n",
            "Epoch 5/15\n",
            "19/19 [==============================] - 8s 434ms/step - loss: 0.1842 - accuracy: 0.9243 - val_loss: 0.1679 - val_accuracy: 0.9340\n",
            "\n",
            "Testing loss: 0.1678866147994995, acc: 0.9340000152587891\n",
            "\n",
            "Took : 46.65 (s)\n"
          ],
          "name": "stdout"
        }
      ]
    },
    {
      "cell_type": "code",
      "metadata": {
        "id": "wfq3yeibY1r9",
        "colab": {
          "base_uri": "https://localhost:8080/"
        },
        "outputId": "6140a4a5-aa5a-48a9-8b45-49a061bda33e"
      },
      "source": [
        "model.evaluate(x_dev[:, :MAX_TEXT_LENGTH], dev_cat_y, batch_size=1000)"
      ],
      "execution_count": null,
      "outputs": [
        {
          "output_type": "stream",
          "text": [
            "1/1 [==============================] - 0s 273ms/step - loss: 0.1679 - accuracy: 0.9340\n"
          ],
          "name": "stdout"
        },
        {
          "output_type": "execute_result",
          "data": {
            "text/plain": [
              "[0.1678866297006607, 0.9340000152587891]"
            ]
          },
          "metadata": {
            "tags": []
          },
          "execution_count": 372
        }
      ]
    },
    {
      "cell_type": "code",
      "metadata": {
        "id": "cAL63kGiY3-h",
        "colab": {
          "base_uri": "https://localhost:8080/"
        },
        "outputId": "82c9b5b0-c0d8-4a77-8b1c-e1fd741a516c"
      },
      "source": [
        "y_pred = np.argmax(model.predict(x_dev[:, :MAX_TEXT_LENGTH]), axis=1)\n",
        "\n",
        "print(creport(np.argmax(dev_cat_y, axis=1), y_pred,target_names=['HS', 'NOT_HS'],digits=4))"
      ],
      "execution_count": null,
      "outputs": [
        {
          "output_type": "stream",
          "text": [
            "              precision    recall  f1-score   support\n",
            "\n",
            "          HS     0.3590    0.6364    0.4590        44\n",
            "      NOT_HS     0.9826    0.9477    0.9649       956\n",
            "\n",
            "    accuracy                         0.9340      1000\n",
            "   macro avg     0.6708    0.7920    0.7119      1000\n",
            "weighted avg     0.9552    0.9340    0.9426      1000\n",
            "\n"
          ],
          "name": "stdout"
        }
      ]
    },
    {
      "cell_type": "code",
      "metadata": {
        "id": "y3CKDezR32Sn",
        "colab": {
          "base_uri": "https://localhost:8080/"
        },
        "outputId": "b3ea093e-1b2a-441f-a654-21a48cc28c63"
      },
      "source": [
        "model.evaluate(x_test[:, :MAX_TEXT_LENGTH], test_cat_y, batch_size=1000)"
      ],
      "execution_count": null,
      "outputs": [
        {
          "output_type": "stream",
          "text": [
            "2/2 [==============================] - 1s 308ms/step - loss: 0.1737 - accuracy: 0.9310\n"
          ],
          "name": "stdout"
        },
        {
          "output_type": "execute_result",
          "data": {
            "text/plain": [
              "[0.1736595332622528, 0.9309999942779541]"
            ]
          },
          "metadata": {
            "tags": []
          },
          "execution_count": 374
        }
      ]
    },
    {
      "cell_type": "code",
      "metadata": {
        "id": "xA72H9oV32ak",
        "colab": {
          "base_uri": "https://localhost:8080/"
        },
        "outputId": "8237d774-ee69-4790-fa68-5d2db06cabfb"
      },
      "source": [
        "y_pred = np.argmax(model.predict(x_test[:, :MAX_TEXT_LENGTH]), axis=1)\r\n",
        "\r\n",
        "print(creport(np.argmax(test_cat_y, axis=1), y_pred,target_names=['HS', 'NOT_HS'],digits=4))"
      ],
      "execution_count": null,
      "outputs": [
        {
          "output_type": "stream",
          "text": [
            "              precision    recall  f1-score   support\n",
            "\n",
            "          HS     0.3822    0.5941    0.4651       101\n",
            "      NOT_HS     0.9778    0.9489    0.9631      1899\n",
            "\n",
            "    accuracy                         0.9310      2000\n",
            "   macro avg     0.6800    0.7715    0.7141      2000\n",
            "weighted avg     0.9477    0.9310    0.9380      2000\n",
            "\n"
          ],
          "name": "stdout"
        }
      ]
    },
    {
      "cell_type": "code",
      "metadata": {
        "id": "zRJ5MUVMY5dG",
        "colab": {
          "base_uri": "https://localhost:8080/",
          "height": 856
        },
        "outputId": "46339099-b5f9-431d-9679-e83b0c592da3"
      },
      "source": [
        "plot_model(model, to_file='CNN_GRU_model.png', show_shapes=False, show_layer_names=False)"
      ],
      "execution_count": null,
      "outputs": [
        {
          "output_type": "execute_result",
          "data": {
            "image/png": "[encoded data removed]",
            "text/plain": [
              "<IPython.core.display.Image object>"
            ]
          },
          "metadata": {
            "tags": []
          },
          "execution_count": 376
        }
      ]
    },
    {
      "cell_type": "code",
      "metadata": {
        "id": "-JOWBKcUbJC-"
      },
      "source": [
        ""
      ],
      "execution_count": null,
      "outputs": []
    }
  ]
}